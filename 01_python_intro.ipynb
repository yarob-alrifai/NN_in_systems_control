{
 "cells": [
  {
   "cell_type": "markdown",
   "id": "8633dc1c",
   "metadata": {},
   "source": [
    "\n",
    "## A few words about cells in the notebook\n",
    "\n",
    "You can run cells using the shortcut **`<Shift> + <Enter>`**.  \n",
    "\n",
    "The **`<Enter>`** key allows you to move the cursor to the next line.  \n",
    "\n",
    "#### Code cells\n",
    "\n",
    "Restarting cells will execute all the code written inside the cell. To modify the content, you need to click on it (the color will change from blue to green).  \n",
    "\n",
    "#### Markdown cells\n",
    "\n",
    "Restarting these cells will regenerate the text in Markdown format. To edit, double-click on the cell.  \n",
    "\n",
    "<hr>\n",
    "\n"
   ]
  },
  {
   "cell_type": "markdown",
   "id": "b0078fa5",
   "metadata": {},
   "source": [
    "## References\n",
    "\n",
    "- https://jupyter-notebook.readthedocs.io/en/latest/notebook.html\n",
    "- https://mybinder.readthedocs.io/en/latest/introduction.html\n",
    "- https://docs.python.org/3/tutorial/index.html\n",
    "- https://docs.python.org/3/tutorial/introduction.html\n",
    "- https://daringfireball.net/projects/markdown/syntax\n",
    "\n",
    "<hr>"
   ]
  },
  {
   "cell_type": "markdown",
   "id": "f3bb8007",
   "metadata": {},
   "source": [
    "# 1. Basics\n",
    "  \n",
    "## Objects, basic types, and variables in Python 3\n",
    "\n",
    "Everything in Python 3 is an **object**, and every object has its own **type**. The main types include:\n",
    "\n",
    "- **`int`** (integer; whole number)  \n",
    "  - `10`  \n",
    "  - `-3`  \n",
    "- **`float`** (floating point number; decimal)  \n",
    "  - `7.41`  \n",
    "  - `-0.006`  \n",
    "- **`str`** (string; sequence of characters enclosed in single, double, or triple quotes)  \n",
    "  - `'this is a string using single quotes'`  \n",
    "  - `\"this is a string using double quotes\"`  \n",
    "  - `'''this is a triple quoted string using single quotes'''`  \n",
    "  - `\"\"\"this is a triple quoted string using double quotes\"\"\"`  \n",
    "- **`bool`** (boolean; binary value, can be `True` or `False`)  \n",
    "  - `True`  \n",
    "  - `False`  \n",
    "- **`NoneType`** (a special type representing the absence of a value)  \n",
    "  - `None`  \n",
    "\n",
    "In Python, a **variable** is a name you specify in the code that is associated with a particular **object**, **instance** of an object, or value.\n",
    "\n",
    "By defining variables, we can reference objects by names that are meaningful to us (we try to give variables descriptive names). Variable names may contain only letters, underscores (`_`), or digits (no spaces, hyphens, or other symbols). Variable names must begin with a letter or an underscore (they cannot begin with a digit).\n",
    "\n",
    "<hr>\n"
   ]
  },
  {
   "cell_type": "markdown",
   "id": "d45c4334",
   "metadata": {},
   "source": [
    "## Basic Operators\n",
    "\n",
    "In Python, there are different types of **operators** (special symbols) that work with different values. Some of the main operators include:\n",
    "\n",
    "- Arithmetic operators  \n",
    "   - **`+`** (addition)  \n",
    "   - **`-`** (subtraction)  \n",
    "   - **`*`** (multiplication)  \n",
    "   - **`/`** (division)  \n",
    "   - **`**`** (exponentiation)  \n",
    "- Assignment operators  \n",
    "   - **`=`** (assign a value)  \n",
    "   - **`+=`** (add and reassign; increment; similar to **`a++`**)  \n",
    "   - **`-=`** (subtract and reassign; decrement; similar to **`a--`**)  \n",
    "   - **`*=`** (multiply and reassign)  \n",
    "- Comparison operators (return either `True` or `False`)  \n",
    "   - **`==`** (equal to)  \n",
    "   - **`!=`** (not equal to)  \n",
    "   - **`<`** (less than)  \n",
    "   - **`<=`** (less than or equal to)  \n",
    "   - **`>`** (greater than)  \n",
    "   - **`>=`** (greater than or equal to)  \n",
    "\n",
    "If an expression contains multiple operators, **operator precedence** determines which parts of the expression are evaluated first. Operators with higher precedence are evaluated before those with lower precedence. Operators with the same precedence are evaluated left to right. The order of precedence is as follows:\n",
    "\n",
    "- Parentheses `()` for grouping  \n",
    "- Exponentiation `**`  \n",
    "- `*`, `/` multiplication and division  \n",
    "- `+`, `-` addition and subtraction  \n",
    "- Comparison operators `==`, `!=`, `<`, `<=`, `>`, `>=`  \n",
    "\n",
    "> See https://docs.python.org/3/reference/expressions.html#operator-precedence\n"
   ]
  },
  {
   "cell_type": "code",
   "execution_count": 2,
   "id": "bcb5108a",
   "metadata": {},
   "outputs": [],
   "source": [
    "# Assign some numbers to different variables\n",
    "num1 = 10\n",
    "num2 = -3\n",
    "num3 = 7.41\n",
    "num4 = -.6\n",
    "num5 = 7\n",
    "num6 = 3\n",
    "num7 = 11.11"
   ]
  },
  {
   "cell_type": "markdown",
   "id": "b797aca2",
   "metadata": {},
   "source": [
    "### Example: Addition\n"
   ]
  },
  {
   "cell_type": "code",
   "execution_count": 3,
   "id": "04d041f6",
   "metadata": {},
   "outputs": [
    {
     "data": {
      "text/plain": [
       "7"
      ]
     },
     "execution_count": 3,
     "metadata": {},
     "output_type": "execute_result"
    }
   ],
   "source": [
    "# Addition\n",
    "num1 + num2"
   ]
  },
  {
   "cell_type": "markdown",
   "id": "86a974aa",
   "metadata": {},
   "source": [
    "### Example: Subtraction\n",
    "Subtracting numbers or variables."
   ]
  },
  {
   "cell_type": "code",
   "execution_count": 4,
   "id": "ffdb7e17",
   "metadata": {},
   "outputs": [
    {
     "data": {
      "text/plain": [
       "-10.41"
      ]
     },
     "execution_count": 4,
     "metadata": {},
     "output_type": "execute_result"
    }
   ],
   "source": [
    "# Subtraction\n",
    "num2 - num3"
   ]
  },
  {
   "cell_type": "markdown",
   "id": "0ff7b2c7",
   "metadata": {},
   "source": [
    "### Example: Multiplication\n",
    "Multiplying numbers or variables."
   ]
  },
  {
   "cell_type": "code",
   "execution_count": 12,
   "id": "1c6c8ced",
   "metadata": {},
   "outputs": [
    {
     "name": "stdout",
     "output_type": "stream",
     "text": [
      "30\n",
      "-30\n"
     ]
    },
    {
     "data": {
      "text/plain": [
       "-4.446"
      ]
     },
     "execution_count": 12,
     "metadata": {},
     "output_type": "execute_result"
    }
   ],
   "source": [
    "# Multiplication\n",
    "\n",
    "print(10*3)\n",
    "print(num1 * num2)\n",
    "num3 * num4\n"
   ]
  },
  {
   "cell_type": "markdown",
   "id": "dcaa788f",
   "metadata": {},
   "source": [
    "### Example: Division\n",
    "Dividing numbers or variables."
   ]
  },
  {
   "cell_type": "code",
   "execution_count": 13,
   "id": "bf17de57",
   "metadata": {},
   "outputs": [
    {
     "data": {
      "text/plain": [
       "-0.08571428571428572"
      ]
     },
     "execution_count": 13,
     "metadata": {},
     "output_type": "execute_result"
    }
   ],
   "source": [
    "# Division\n",
    "num4 / num5"
   ]
  },
  {
   "cell_type": "markdown",
   "id": "2150ddbe",
   "metadata": {},
   "source": [
    "### Example: Multiplication\n",
    "Multiplying numbers or variables."
   ]
  },
  {
   "cell_type": "code",
   "execution_count": 14,
   "id": "0f32c0e8",
   "metadata": {},
   "outputs": [
    {
     "name": "stdout",
     "output_type": "stream",
     "text": [
      "4\n"
     ]
    },
    {
     "data": {
      "text/plain": [
       "343"
      ]
     },
     "execution_count": 14,
     "metadata": {},
     "output_type": "execute_result"
    }
   ],
   "source": [
    "# Exponentiation\n",
    "print(2**2)\n",
    "num5 ** num6"
   ]
  },
  {
   "cell_type": "markdown",
   "id": "8b1dea6b",
   "metadata": {},
   "source": [
    "### Example: Division  \n",
    "\n",
    "Dividing numbers or variables.  \n",
    "\n",
    "- **`/` (true division)** : always returns a *float* result, even if the division is exact.  \n",
    "\n",
    "  Example:  \n",
    "  - 5 / 2   # 2.5\n",
    "  - 4 / 2   # 2.0\n",
    "\n",
    "- **`//` (floor division)**:  returns the integer part of the division, rounding down towards negative infinity.\n",
    "\n",
    "  Example:  \n",
    "  - 5 // 2    # 2\n",
    "  - -5 // 2   # -3  (because it rounds down, not just truncates)\n"
   ]
  },
  {
   "cell_type": "code",
   "execution_count": 18,
   "id": "cea54608",
   "metadata": {},
   "outputs": [
    {
     "name": "stdout",
     "output_type": "stream",
     "text": [
      "2.3333333333333335\n",
      "2\n"
     ]
    }
   ],
   "source": [
    "\n",
    "print(num5 / num6)\n",
    "print(num5 // num6)\n"
   ]
  },
  {
   "cell_type": "markdown",
   "id": "4c464ee0",
   "metadata": {},
   "source": [
    "### Explanation\n",
    "modulo operator, it gives the remainder after dividing num5 by num6"
   ]
  },
  {
   "cell_type": "code",
   "execution_count": 19,
   "id": "ee61415c",
   "metadata": {},
   "outputs": [
    {
     "name": "stdout",
     "output_type": "stream",
     "text": [
      "1\n",
      "4\n"
     ]
    },
    {
     "data": {
      "text/plain": [
       "1"
      ]
     },
     "execution_count": 19,
     "metadata": {},
     "output_type": "execute_result"
    }
   ],
   "source": [
    "\n",
    "print(10 % 3)   # 1  (because 10 = 3*3 + 1)\n",
    "print(14 % 5)   # 4  (because 14 = 5*2 + 4)\n",
    "num5 % num6"
   ]
  },
  {
   "cell_type": "code",
   "execution_count": 28,
   "id": "8407542c",
   "metadata": {},
   "outputs": [
    {
     "data": {
      "text/plain": [
       "31.11"
      ]
     },
     "execution_count": 28,
     "metadata": {},
     "output_type": "execute_result"
    }
   ],
   "source": [
    "num7"
   ]
  },
  {
   "cell_type": "code",
   "execution_count": 30,
   "id": "9cb688c7",
   "metadata": {},
   "outputs": [
    {
     "data": {
      "text/plain": [
       "39.11"
      ]
     },
     "execution_count": 30,
     "metadata": {},
     "output_type": "execute_result"
    }
   ],
   "source": [
    "# Increase a variable's value\n",
    "# num7 = num7 + 4\n",
    "num7 += 4\n",
    "num7"
   ]
  },
  {
   "cell_type": "code",
   "execution_count": 32,
   "id": "beb5dfd9",
   "metadata": {},
   "outputs": [
    {
     "data": {
      "text/plain": [
       "39.11"
      ]
     },
     "execution_count": 32,
     "metadata": {},
     "output_type": "execute_result"
    }
   ],
   "source": [
    "num7"
   ]
  },
  {
   "cell_type": "code",
   "execution_count": 12,
   "id": "1a145a54",
   "metadata": {},
   "outputs": [
    {
     "data": {
      "text/plain": [
       "3"
      ]
     },
     "execution_count": 12,
     "metadata": {},
     "output_type": "execute_result"
    }
   ],
   "source": [
    "num6"
   ]
  },
  {
   "cell_type": "markdown",
   "id": "0fca1452",
   "metadata": {},
   "source": [
    "### Example: Subtraction\n",
    "Subtracting numbers or variables."
   ]
  },
  {
   "cell_type": "code",
   "execution_count": 38,
   "id": "3b9f37f0",
   "metadata": {},
   "outputs": [
    {
     "data": {
      "text/plain": [
       "-9"
      ]
     },
     "execution_count": 38,
     "metadata": {},
     "output_type": "execute_result"
    }
   ],
   "source": [
    "# Decrease a variable's value\n",
    "\n",
    "# num6 = num6 -2\n",
    "num6 -= 2\n",
    "num6"
   ]
  },
  {
   "cell_type": "markdown",
   "id": "32be4e15",
   "metadata": {},
   "source": [
    "### Example: Multiplication\n",
    "Multiplying numbers or variables."
   ]
  },
  {
   "cell_type": "code",
   "execution_count": 39,
   "id": "228d10f9",
   "metadata": {},
   "outputs": [
    {
     "data": {
      "text/plain": [
       "37.05"
      ]
     },
     "execution_count": 39,
     "metadata": {},
     "output_type": "execute_result"
    }
   ],
   "source": [
    "# Multiply and reassign a variable's value\n",
    "num3 *= 5\n",
    "num3"
   ]
  },
  {
   "cell_type": "markdown",
   "id": "0cd4d727",
   "metadata": {},
   "source": [
    "### Example: Addition\n",
    "Here we assign numbers to variables and then add them together."
   ]
  },
  {
   "cell_type": "code",
   "execution_count": 41,
   "id": "03bed8b2",
   "metadata": {},
   "outputs": [
    {
     "name": "stdout",
     "output_type": "stream",
     "text": [
      "27\n"
     ]
    },
    {
     "data": {
      "text/plain": [
       "-101.14999999999999"
      ]
     },
     "execution_count": 41,
     "metadata": {},
     "output_type": "execute_result"
    }
   ],
   "source": [
    "# Assign a variable to the result of an expression\n",
    "print(2+5*5)\n",
    "num8 = num1 + num2 * num3\n",
    "num8"
   ]
  },
  {
   "cell_type": "code",
   "execution_count": 44,
   "id": "0103b95d",
   "metadata": {},
   "outputs": [
    {
     "data": {
      "text/plain": [
       "(10, -3, 7)"
      ]
     },
     "execution_count": 44,
     "metadata": {},
     "output_type": "execute_result"
    }
   ],
   "source": [
    "num1, num2, num5"
   ]
  },
  {
   "cell_type": "markdown",
   "id": "fc29fb88",
   "metadata": {},
   "source": [
    "### Example: Addition\n"
   ]
  },
  {
   "cell_type": "code",
   "execution_count": 17,
   "id": "ac30f532",
   "metadata": {},
   "outputs": [
    {
     "data": {
      "text/plain": [
       "True"
      ]
     },
     "execution_count": 17,
     "metadata": {},
     "output_type": "execute_result"
    }
   ],
   "source": [
    "# Equality of two expressions\n",
    "num1 + num2 == num5"
   ]
  },
  {
   "cell_type": "markdown",
   "id": "7d3af0cc",
   "metadata": {},
   "source": [
    "### Explanation\n"
   ]
  },
  {
   "cell_type": "code",
   "execution_count": null,
   "id": "26a77c28",
   "metadata": {},
   "outputs": [
    {
     "data": {
      "text/plain": [
       "(37.05, -0.6)"
      ]
     },
     "execution_count": 45,
     "metadata": {},
     "output_type": "execute_result"
    }
   ],
   "source": [
    "num3, num4"
   ]
  },
  {
   "cell_type": "markdown",
   "id": "16a306dc",
   "metadata": {},
   "source": [
    "### Explanation\n",
    "This code demonstrates Python usage."
   ]
  },
  {
   "cell_type": "code",
   "execution_count": 19,
   "id": "8c8accde",
   "metadata": {},
   "outputs": [
    {
     "data": {
      "text/plain": [
       "True"
      ]
     },
     "execution_count": 46,
     "metadata": {},
     "output_type": "execute_result"
    }
   ],
   "source": [
    "# Inequality of two expressions\n",
    "num3 != num4"
   ]
  },
  {
   "cell_type": "markdown",
   "id": "dbc8c01f",
   "metadata": {},
   "source": [
    "### Explanation\n"
   ]
  },
  {
   "cell_type": "code",
   "execution_count": 47,
   "id": "d6d71e78",
   "metadata": {},
   "outputs": [
    {
     "data": {
      "text/plain": [
       "(7, -9)"
      ]
     },
     "execution_count": 47,
     "metadata": {},
     "output_type": "execute_result"
    }
   ],
   "source": [
    "num5, num6"
   ]
  },
  {
   "cell_type": "code",
   "execution_count": 48,
   "id": "e5a1a3b3",
   "metadata": {},
   "outputs": [
    {
     "data": {
      "text/plain": [
       "False"
      ]
     },
     "execution_count": 48,
     "metadata": {},
     "output_type": "execute_result"
    }
   ],
   "source": [
    "# Compare the values of two variables (or expressions)\n",
    "num5 < num6"
   ]
  },
  {
   "cell_type": "markdown",
   "id": "815f649e",
   "metadata": {},
   "source": [
    "### Explanation\n"
   ]
  },
  {
   "cell_type": "code",
   "execution_count": 22,
   "id": "9732456e",
   "metadata": {},
   "outputs": [
    {
     "data": {
      "text/plain": [
       "True"
      ]
     },
     "execution_count": 22,
     "metadata": {},
     "output_type": "execute_result"
    }
   ],
   "source": [
    "# Is the statement below true?\n",
    "5 > 3 > 1"
   ]
  },
  {
   "cell_type": "code",
   "execution_count": 49,
   "id": "9cc83f3b",
   "metadata": {},
   "outputs": [
    {
     "data": {
      "text/plain": [
       "True"
      ]
     },
     "execution_count": 49,
     "metadata": {},
     "output_type": "execute_result"
    }
   ],
   "source": [
    "# Is this expression true?\n",
    "# (5 > 3) and (3 < 4) and (4 == 3 + 1)\n",
    "\n",
    "5 > 3 < 4 == 3 + 1"
   ]
  },
  {
   "cell_type": "markdown",
   "id": "43e9a7ff",
   "metadata": {},
   "source": [
    "### Explanation\n"
   ]
  },
  {
   "cell_type": "code",
   "execution_count": 50,
   "id": "3d68b446",
   "metadata": {},
   "outputs": [
    {
     "data": {
      "text/plain": [
       "('an example', 'oranges ')"
      ]
     },
     "execution_count": 50,
     "metadata": {},
     "output_type": "execute_result"
    }
   ],
   "source": [
    "# Assign values from different strings to different variables\n",
    "simple_string1 = 'an example'\n",
    "simple_string2 = \"oranges \"\n",
    "simple_string1, simple_string2"
   ]
  },
  {
   "cell_type": "markdown",
   "id": "5855423f",
   "metadata": {},
   "source": [
    "### Explanation\n"
   ]
  },
  {
   "cell_type": "code",
   "execution_count": 51,
   "id": "6fb97449",
   "metadata": {},
   "outputs": [
    {
     "data": {
      "text/plain": [
       "'an example of using the + operator'"
      ]
     },
     "execution_count": 51,
     "metadata": {},
     "output_type": "execute_result"
    }
   ],
   "source": [
    "# String addition (concatenation)\n",
    "simple_string1 + ' of using the + operator'"
   ]
  },
  {
   "cell_type": "code",
   "execution_count": 52,
   "id": "7b804233",
   "metadata": {},
   "outputs": [
    {
     "data": {
      "text/plain": [
       "'an example'"
      ]
     },
     "execution_count": 52,
     "metadata": {},
     "output_type": "execute_result"
    }
   ],
   "source": [
    "simple_string1"
   ]
  },
  {
   "cell_type": "code",
   "execution_count": 53,
   "id": "89bbce7e",
   "metadata": {},
   "outputs": [
    {
     "data": {
      "text/plain": [
       "'oranges oranges oranges oranges '"
      ]
     },
     "execution_count": 53,
     "metadata": {},
     "output_type": "execute_result"
    }
   ],
   "source": [
    "# String multiplication\n",
    "simple_string2 * 4"
   ]
  },
  {
   "cell_type": "code",
   "execution_count": 54,
   "id": "f89e2533",
   "metadata": {},
   "outputs": [
    {
     "data": {
      "text/plain": [
       "'oranges '"
      ]
     },
     "execution_count": 54,
     "metadata": {},
     "output_type": "execute_result"
    }
   ],
   "source": [
    "simple_string2"
   ]
  },
  {
   "cell_type": "code",
   "execution_count": 55,
   "id": "c3d05312",
   "metadata": {},
   "outputs": [
    {
     "data": {
      "text/plain": [
       "False"
      ]
     },
     "execution_count": 55,
     "metadata": {},
     "output_type": "execute_result"
    }
   ],
   "source": [
    "# Are the strings equal?\n",
    "simple_string1 == simple_string2"
   ]
  },
  {
   "cell_type": "code",
   "execution_count": 56,
   "id": "407546f5",
   "metadata": {},
   "outputs": [
    {
     "data": {
      "text/plain": [
       "True"
      ]
     },
     "execution_count": 56,
     "metadata": {},
     "output_type": "execute_result"
    }
   ],
   "source": [
    "# String equality\n",
    "simple_string1 == 'an example'"
   ]
  },
  {
   "cell_type": "markdown",
   "id": "3be70dd9",
   "metadata": {},
   "source": [
    "### Explanation\n"
   ]
  },
  {
   "cell_type": "code",
   "execution_count": 31,
   "id": "f270018a",
   "metadata": {},
   "outputs": [
    {
     "data": {
      "text/plain": [
       "'an example that re-assigned the original string'"
      ]
     },
     "execution_count": 31,
     "metadata": {},
     "output_type": "execute_result"
    }
   ],
   "source": [
    "# Concatenation and reassignment\n",
    "simple_string1 += ' that re-assigned the original string'\n",
    "simple_string1"
   ]
  },
  {
   "cell_type": "code",
   "execution_count": 57,
   "id": "49ec07da",
   "metadata": {},
   "outputs": [
    {
     "data": {
      "text/plain": [
       "'oranges oranges oranges '"
      ]
     },
     "execution_count": 57,
     "metadata": {},
     "output_type": "execute_result"
    }
   ],
   "source": [
    "# Multiplication and reassignment\n",
    "simple_string2 *= 3\n",
    "simple_string2"
   ]
  },
  {
   "cell_type": "markdown",
   "id": "96f7eff5",
   "metadata": {},
   "source": [
    "## Basic Containers\n",
    "\n",
    "> Note. **Mutable** objects can be changed after creation, while **immutable** objects cannot.\n",
    "\n",
    "Containers are objects that can be used to store other objects. The main types of containers include:\n",
    "\n",
    "- **`str`** (string: immutable; indexed by integers; elements are stored in the order they were added)  \n",
    "- **`list`** (list: mutable; indexed by integers; elements are stored in the order they were added)  \n",
    "   - `[3, 5, 6, 3, 'dog', 'cat', False]`  \n",
    "- **`tuple`** (tuple: immutable; indexed by integers; elements are stored in the order they were added)  \n",
    "   - `(3, 5, 6, 3, 'dog', 'cat', False)`  \n",
    "- **`set`** (set: mutable; not indexed at all; elements are NOT stored in the order they were added; can contain only immutable objects; does NOT contain duplicates)  \n",
    "   - `{3, 5, 6, 'dog', 'cat', False}`  \n",
    "- **`dict`** (dictionary: mutable; key-value pairs are indexed by immutable keys; elements are NOT stored in the order they were added)  \n",
    "   - `{'name': 'Jane',  \n",
    "       'age': 23,  \n",
    "       'fav_foods': ['pizza', 'fruits', 'fish']}`  \n",
    "\n",
    "When defining lists (`list`), tuples (`tuple`), or sets (`set`), commas (`,`) are used to separate individual elements. When defining dictionaries (`dict`), a colon (`:`) is used to separate keys from values, and commas (`,`) are used to separate key-value pairs.\n",
    "\n",
    "Strings, lists, and tuples are **sequence types**, which means operators like `+`, `*`, `+=`, and `*=` can be applied to them.\n"
   ]
  },
  {
   "cell_type": "markdown",
   "id": "b9936eab",
   "metadata": {},
   "source": [
    "### Example: Working with Lists\n",
    "This code creates or manipulates a list."
   ]
  },
  {
   "cell_type": "code",
   "execution_count": 59,
   "id": "fda35754",
   "metadata": {},
   "outputs": [
    {
     "data": {
      "text/plain": [
       "([3, 5, 6, 3, 'dog', 'cat', False],\n",
       " (3, 5, 6, 3, 'dog', 'cat', False),\n",
       " {3, 5, 6, False, 'cat', 'dog'},\n",
       " {'name': 'Jane', 'age': 23, 'fav_foods': ['pizza', 'fruit', 'fish']})"
      ]
     },
     "execution_count": 59,
     "metadata": {},
     "output_type": "execute_result"
    }
   ],
   "source": [
    "# Assign specific values to containers\n",
    "list1 = [3, 5, 6, 3, 'dog', 'cat', False]\n",
    "tuple1 = (3, 5, 6, 3, 'dog', 'cat', False)\n",
    "set1 = {3, 5, 6, 3, 'dog', 'cat', False}\n",
    "dict1 = {'name': 'Jane', 'age': 23, 'fav_foods': ['pizza', 'fruit', 'fish']}\n",
    "list1, tuple1, set1, dict1"
   ]
  },
  {
   "cell_type": "markdown",
   "id": "73f2a2bb",
   "metadata": {},
   "source": [
    "### Example: Working with Lists\n",
    "This code creates or manipulates a list."
   ]
  },
  {
   "cell_type": "code",
   "execution_count": 34,
   "id": "0d144346",
   "metadata": {},
   "outputs": [
    {
     "data": {
      "text/plain": [
       "[3, 5, 6, 3, 'dog', 'cat', False]"
      ]
     },
     "execution_count": 34,
     "metadata": {},
     "output_type": "execute_result"
    }
   ],
   "source": [
    "list1"
   ]
  },
  {
   "cell_type": "markdown",
   "id": "ced9f827",
   "metadata": {},
   "source": [
    "### Example: Working with Tuples\n",
    "This code shows tuple operations."
   ]
  },
  {
   "cell_type": "code",
   "execution_count": 35,
   "id": "102636d4",
   "metadata": {},
   "outputs": [
    {
     "data": {
      "text/plain": [
       "(3, 5, 6, 3, 'dog', 'cat', False)"
      ]
     },
     "execution_count": 35,
     "metadata": {},
     "output_type": "execute_result"
    }
   ],
   "source": [
    "tuple1"
   ]
  },
  {
   "cell_type": "markdown",
   "id": "535c64a9",
   "metadata": {},
   "source": [
    "### Example: Working with Sets\n",
    "This code demonstrates set operations."
   ]
  },
  {
   "cell_type": "code",
   "execution_count": 36,
   "id": "254e8a39",
   "metadata": {},
   "outputs": [
    {
     "data": {
      "text/plain": [
       "{3, 5, 6, False, 'cat', 'dog'}"
      ]
     },
     "execution_count": 36,
     "metadata": {},
     "output_type": "execute_result"
    }
   ],
   "source": [
    "# Sets show unique elements only\n",
    "set1"
   ]
  },
  {
   "cell_type": "markdown",
   "id": "677645f1",
   "metadata": {},
   "source": [
    "### Example: Working with Dictionaries\n",
    "This code demonstrates dictionary usage."
   ]
  },
  {
   "cell_type": "code",
   "execution_count": 37,
   "id": "775aeaaf",
   "metadata": {},
   "outputs": [
    {
     "data": {
      "text/plain": [
       "{'name': 'Jane', 'age': 23, 'fav_foods': ['pizza', 'fruit', 'fish']}"
      ]
     },
     "execution_count": 37,
     "metadata": {},
     "output_type": "execute_result"
    }
   ],
   "source": [
    "# Dict insertion order is preserved in modern Python\n",
    "dict1"
   ]
  },
  {
   "cell_type": "markdown",
   "id": "5a3e2564",
   "metadata": {},
   "source": [
    "### Example: Working with Lists\n",
    "This code creates or manipulates a list."
   ]
  },
  {
   "cell_type": "code",
   "execution_count": 60,
   "id": "94d11189",
   "metadata": {},
   "outputs": [
    {
     "data": {
      "text/plain": [
       "[3, 5, 6, 3, 'dog', 'cat', False]"
      ]
     },
     "execution_count": 60,
     "metadata": {},
     "output_type": "execute_result"
    }
   ],
   "source": [
    "list1"
   ]
  },
  {
   "cell_type": "code",
   "execution_count": 61,
   "id": "dab2e4b3",
   "metadata": {},
   "outputs": [
    {
     "data": {
      "text/plain": [
       "[3, 5, 6, 3, 'dog', 'cat', False, 5, 'grapes']"
      ]
     },
     "execution_count": 61,
     "metadata": {},
     "output_type": "execute_result"
    }
   ],
   "source": [
    "# Addition and reassignment (list)\n",
    "list1 += [5, 'grapes']\n",
    "list1"
   ]
  },
  {
   "cell_type": "markdown",
   "id": "0dfbf0da",
   "metadata": {},
   "source": [
    "### Example: Working with Tuples\n",
    "This code shows tuple operations."
   ]
  },
  {
   "cell_type": "code",
   "execution_count": 62,
   "id": "9989f827",
   "metadata": {},
   "outputs": [
    {
     "data": {
      "text/plain": [
       "(3, 5, 6, 3, 'dog', 'cat', False)"
      ]
     },
     "execution_count": 62,
     "metadata": {},
     "output_type": "execute_result"
    }
   ],
   "source": [
    "tuple1"
   ]
  },
  {
   "cell_type": "code",
   "execution_count": 69,
   "id": "dfae713e",
   "metadata": {},
   "outputs": [
    {
     "data": {
      "text/plain": [
       "(3, 5, 6, 3, 'dog', 'cat', False, 5, 'grapes')"
      ]
     },
     "execution_count": 69,
     "metadata": {},
     "output_type": "execute_result"
    }
   ],
   "source": [
    "# Addition and reassignment (tuple)\n",
    "tuple1 += (5, 'grapes')\n",
    "tuple1"
   ]
  },
  {
   "cell_type": "code",
   "execution_count": 63,
   "id": "9e0272d3",
   "metadata": {},
   "outputs": [
    {
     "data": {
      "text/plain": [
       "[1, 2, 3, 4, 1, 2, 3, 4, 1, 2, 3, 4]"
      ]
     },
     "execution_count": 63,
     "metadata": {},
     "output_type": "execute_result"
    }
   ],
   "source": [
    "[1, 2, 3, 4] * 3"
   ]
  },
  {
   "cell_type": "code",
   "execution_count": 64,
   "id": "9a8fb3b1",
   "metadata": {},
   "outputs": [
    {
     "data": {
      "text/plain": [
       "(1, 2, 3, 4, 1, 2, 3, 4, 1, 2, 3, 4)"
      ]
     },
     "execution_count": 64,
     "metadata": {},
     "output_type": "execute_result"
    }
   ],
   "source": [
    "(1, 2, 3, 4) * 3"
   ]
  },
  {
   "cell_type": "markdown",
   "id": "b6e07c2b",
   "metadata": {},
   "source": [
    "## Accessing Data in Containers (Indexing)\n",
    "\n",
    "For strings, lists, tuples, and dictionaries, we can use **index notation** (square brackets) to access data by index.\n",
    "\n",
    "- Strings, lists, and tuples are indexed by integers, **starting at 0** for the first element.  \n",
    "   - These sequence types also support access to a range of elements, known as a **slice**.  \n",
    "   - **Negative indexing** can be used to start from the end of the sequence.  \n",
    "- Dictionaries are indexed by their keys.  \n",
    "\n",
    "> Note: Sets are not indexed, so we cannot use index notation to access their elements.\n"
   ]
  },
  {
   "cell_type": "markdown",
   "id": "8f7e861e",
   "metadata": {},
   "source": [
    "### Example: Working with Lists\n"
   ]
  },
  {
   "cell_type": "code",
   "execution_count": 65,
   "id": "93ad0170",
   "metadata": {},
   "outputs": [
    {
     "data": {
      "text/plain": [
       "[3, 5, 6, 3, 'dog', 'cat', False, 5, 'grapes']"
      ]
     },
     "execution_count": 65,
     "metadata": {},
     "output_type": "execute_result"
    }
   ],
   "source": [
    "list1"
   ]
  },
  {
   "cell_type": "code",
   "execution_count": 67,
   "id": "14187d5f",
   "metadata": {},
   "outputs": [
    {
     "data": {
      "text/plain": [
       "5"
      ]
     },
     "execution_count": 67,
     "metadata": {},
     "output_type": "execute_result"
    }
   ],
   "source": [
    "# Access the second item (index 1)\n",
    "list1[1]"
   ]
  },
  {
   "cell_type": "markdown",
   "id": "a1282644",
   "metadata": {},
   "source": [
    "### Example: Working with Tuples\n"
   ]
  },
  {
   "cell_type": "code",
   "execution_count": 70,
   "id": "9600eadd",
   "metadata": {},
   "outputs": [
    {
     "data": {
      "text/plain": [
       "(3, 5, 6, 3, 'dog', 'cat', False, 5, 'grapes')"
      ]
     },
     "execution_count": 70,
     "metadata": {},
     "output_type": "execute_result"
    }
   ],
   "source": [
    "tuple1"
   ]
  },
  {
   "cell_type": "code",
   "execution_count": 71,
   "id": "9ab94249",
   "metadata": {},
   "outputs": [
    {
     "data": {
      "text/plain": [
       "5"
      ]
     },
     "execution_count": 71,
     "metadata": {},
     "output_type": "execute_result"
    }
   ],
   "source": [
    "# Access the second-to-last item\n",
    "tuple1[-2]"
   ]
  },
  {
   "cell_type": "markdown",
   "id": "5ebe88a4",
   "metadata": {},
   "source": [
    "### Explanation\n"
   ]
  },
  {
   "cell_type": "code",
   "execution_count": 73,
   "id": "11d66f3b",
   "metadata": {},
   "outputs": [
    {
     "data": {
      "text/plain": [
       "'an example'"
      ]
     },
     "execution_count": 73,
     "metadata": {},
     "output_type": "execute_result"
    }
   ],
   "source": [
    "simple_string1"
   ]
  },
  {
   "cell_type": "markdown",
   "id": "94290345",
   "metadata": {},
   "source": [
    "### Explanation\n"
   ]
  },
  {
   "cell_type": "code",
   "execution_count": 75,
   "id": "387d192d",
   "metadata": {},
   "outputs": [
    {
     "data": {
      "text/plain": [
       "'examp'"
      ]
     },
     "execution_count": 75,
     "metadata": {},
     "output_type": "execute_result"
    }
   ],
   "source": [
    "# Slice a range\n",
    "# starts at index 3 \n",
    "# Goes up to index 8 (but doesn’t include 8) \n",
    "simple_string1[3:8]\n"
   ]
  },
  {
   "cell_type": "markdown",
   "id": "cb45f982",
   "metadata": {},
   "source": [
    "### Example: Working with Tuples\n"
   ]
  },
  {
   "cell_type": "code",
   "execution_count": 77,
   "id": "dac29f5f",
   "metadata": {},
   "outputs": [
    {
     "data": {
      "text/plain": [
       "(3, 5, 6, 3, 'dog', 'cat', False, 5, 'grapes')"
      ]
     },
     "execution_count": 77,
     "metadata": {},
     "output_type": "execute_result"
    }
   ],
   "source": [
    "tuple1"
   ]
  },
  {
   "cell_type": "code",
   "execution_count": 78,
   "id": "d1040030",
   "metadata": {},
   "outputs": [
    {
     "data": {
      "text/plain": [
       "(3, 5, 6, 3, 'dog', 'cat')"
      ]
     },
     "execution_count": 78,
     "metadata": {},
     "output_type": "execute_result"
    }
   ],
   "source": [
    "tuple1[:-3]"
   ]
  },
  {
   "cell_type": "code",
   "execution_count": 79,
   "id": "6538c572",
   "metadata": {},
   "outputs": [
    {
     "data": {
      "text/plain": [
       "['dog', 'cat', False, 5, 'grapes']"
      ]
     },
     "execution_count": 79,
     "metadata": {},
     "output_type": "execute_result"
    }
   ],
   "source": [
    "list1[4:]"
   ]
  },
  {
   "cell_type": "code",
   "execution_count": 80,
   "id": "818828f0",
   "metadata": {},
   "outputs": [
    {
     "data": {
      "text/plain": [
       "True"
      ]
     },
     "execution_count": 80,
     "metadata": {},
     "output_type": "execute_result"
    }
   ],
   "source": [
    "list1[:] == list1"
   ]
  },
  {
   "cell_type": "markdown",
   "id": "1ab1a442",
   "metadata": {},
   "source": [
    "### Example: Working with Dictionaries\n"
   ]
  },
  {
   "cell_type": "code",
   "execution_count": 81,
   "id": "e5a1c050",
   "metadata": {},
   "outputs": [
    {
     "data": {
      "text/plain": [
       "{'name': 'Jane', 'age': 23, 'fav_foods': ['pizza', 'fruit', 'fish']}"
      ]
     },
     "execution_count": 81,
     "metadata": {},
     "output_type": "execute_result"
    }
   ],
   "source": [
    "dict1"
   ]
  },
  {
   "cell_type": "code",
   "execution_count": 82,
   "id": "37b9522a",
   "metadata": {},
   "outputs": [
    {
     "data": {
      "text/plain": [
       "'Jane'"
      ]
     },
     "execution_count": 82,
     "metadata": {},
     "output_type": "execute_result"
    }
   ],
   "source": [
    "dict1['name']"
   ]
  },
  {
   "cell_type": "code",
   "execution_count": 83,
   "id": "4bbdd2e5",
   "metadata": {},
   "outputs": [
    {
     "data": {
      "text/plain": [
       "23"
      ]
     },
     "execution_count": 83,
     "metadata": {},
     "output_type": "execute_result"
    }
   ],
   "source": [
    "dict1['age']"
   ]
  },
  {
   "cell_type": "code",
   "execution_count": 84,
   "id": "f5e92f97",
   "metadata": {},
   "outputs": [
    {
     "data": {
      "text/plain": [
       "{'name': 'Jane',\n",
       " 'age': 23,\n",
       " 'fav_foods': ['pizza', 'fruit', 'fish'],\n",
       " 'height': 165}"
      ]
     },
     "execution_count": 84,
     "metadata": {},
     "output_type": "execute_result"
    }
   ],
   "source": [
    "dict1['height'] = 165\n",
    "dict1"
   ]
  },
  {
   "cell_type": "code",
   "execution_count": 85,
   "id": "076bfb32",
   "metadata": {},
   "outputs": [
    {
     "data": {
      "text/plain": [
       "{'name': 'Jane',\n",
       " 'age': 23,\n",
       " 'fav_foods': ['pizza', 'fruit', 'fish', 'sss'],\n",
       " 'height': 165}"
      ]
     },
     "execution_count": 85,
     "metadata": {},
     "output_type": "execute_result"
    }
   ],
   "source": [
    "dict1['fav_foods'].append('sss')\n",
    "dict1"
   ]
  },
  {
   "cell_type": "code",
   "execution_count": 86,
   "id": "3709f586",
   "metadata": {},
   "outputs": [
    {
     "data": {
      "text/plain": [
       "'fish'"
      ]
     },
     "execution_count": 86,
     "metadata": {},
     "output_type": "execute_result"
    }
   ],
   "source": [
    "dict1['fav_foods'][2]"
   ]
  },
  {
   "cell_type": "markdown",
   "id": "f080b8be",
   "metadata": {},
   "source": [
    "## Python \"for loops\"\n",
    "\n",
    "It is easy to **iterate over** a collection of elements using a **for** loop. Strings, lists, tuples, sets, and dictionaries that we define are all **iterable** containers.\n",
    "\n",
    "A for loop goes through the given container one element at a time and provides a temporary variable for the current element. You can use this temporary variable just like a regular variable.\n"
   ]
  },
  {
   "cell_type": "markdown",
   "id": "31bbb80e",
   "metadata": {},
   "source": [
    "### Example: Working with Lists\n"
   ]
  },
  {
   "cell_type": "code",
   "execution_count": 87,
   "id": "c96fd04d",
   "metadata": {},
   "outputs": [
    {
     "data": {
      "text/plain": [
       "[3, 5, 6, 3, 'dog', 'cat', False, 5, 'grapes']"
      ]
     },
     "execution_count": 87,
     "metadata": {},
     "output_type": "execute_result"
    }
   ],
   "source": [
    "list1"
   ]
  },
  {
   "cell_type": "markdown",
   "id": "80ed4422",
   "metadata": {},
   "source": [
    "### Example: For Loop\n",
    "This code iterates over a sequence or container."
   ]
  },
  {
   "cell_type": "code",
   "execution_count": 88,
   "id": "1bbbaab5",
   "metadata": {},
   "outputs": [
    {
     "name": "stdout",
     "output_type": "stream",
     "text": [
      "0\n",
      "1\n",
      "2\n",
      "3\n",
      "4\n"
     ]
    }
   ],
   "source": [
    "for i in range(5):\n",
    "    print(i)"
   ]
  },
  {
   "cell_type": "code",
   "execution_count": 89,
   "id": "f900c780",
   "metadata": {},
   "outputs": [
    {
     "data": {
      "text/plain": [
       "range(0, 5)"
      ]
     },
     "execution_count": 89,
     "metadata": {},
     "output_type": "execute_result"
    }
   ],
   "source": [
    "range(5)"
   ]
  },
  {
   "cell_type": "code",
   "execution_count": 90,
   "id": "dfaa5732",
   "metadata": {},
   "outputs": [],
   "source": [
    "bb = list(range(5))"
   ]
  },
  {
   "cell_type": "code",
   "execution_count": 91,
   "id": "0c4d4ee7",
   "metadata": {},
   "outputs": [
    {
     "data": {
      "text/plain": [
       "[0, 1, 2, 3, 4]"
      ]
     },
     "execution_count": 91,
     "metadata": {},
     "output_type": "execute_result"
    }
   ],
   "source": [
    "bb"
   ]
  },
  {
   "cell_type": "markdown",
   "id": "dc795453",
   "metadata": {},
   "source": [
    "### Example: For Loop\n",
    "This code iterates over a sequence or container."
   ]
  },
  {
   "cell_type": "code",
   "execution_count": 93,
   "id": "de3f8cbb",
   "metadata": {},
   "outputs": [
    {
     "name": "stdout",
     "output_type": "stream",
     "text": [
      "1 * 1 = 1\n",
      "1 * 2 = 2\n",
      "1 * 3 = 3\n",
      "1 * 4 = 4\n",
      "1 * 5 = 5\n",
      "1 * 6 = 6\n",
      "1 * 7 = 7\n",
      "1 * 8 = 8\n",
      "1 * 9 = 9\n",
      "1 * 10 = 10\n",
      "2 * 1 = 2\n",
      "2 * 2 = 4\n",
      "2 * 3 = 6\n",
      "2 * 4 = 8\n",
      "2 * 5 = 10\n",
      "2 * 6 = 12\n",
      "2 * 7 = 14\n",
      "2 * 8 = 16\n",
      "2 * 9 = 18\n",
      "2 * 10 = 20\n",
      "3 * 1 = 3\n",
      "3 * 2 = 6\n",
      "3 * 3 = 9\n",
      "3 * 4 = 12\n",
      "3 * 5 = 15\n",
      "3 * 6 = 18\n",
      "3 * 7 = 21\n",
      "3 * 8 = 24\n",
      "3 * 9 = 27\n",
      "3 * 10 = 30\n",
      "4 * 1 = 4\n",
      "4 * 2 = 8\n",
      "4 * 3 = 12\n",
      "4 * 4 = 16\n",
      "4 * 5 = 20\n",
      "4 * 6 = 24\n",
      "4 * 7 = 28\n",
      "4 * 8 = 32\n",
      "4 * 9 = 36\n",
      "4 * 10 = 40\n",
      "5 * 1 = 5\n",
      "5 * 2 = 10\n",
      "5 * 3 = 15\n",
      "5 * 4 = 20\n",
      "5 * 5 = 25\n",
      "5 * 6 = 30\n",
      "5 * 7 = 35\n",
      "5 * 8 = 40\n",
      "5 * 9 = 45\n",
      "5 * 10 = 50\n",
      "6 * 1 = 6\n",
      "6 * 2 = 12\n",
      "6 * 3 = 18\n",
      "6 * 4 = 24\n",
      "6 * 5 = 30\n",
      "6 * 6 = 36\n",
      "6 * 7 = 42\n",
      "6 * 8 = 48\n",
      "6 * 9 = 54\n",
      "6 * 10 = 60\n",
      "7 * 1 = 7\n",
      "7 * 2 = 14\n",
      "7 * 3 = 21\n",
      "7 * 4 = 28\n",
      "7 * 5 = 35\n",
      "7 * 6 = 42\n",
      "7 * 7 = 49\n",
      "7 * 8 = 56\n",
      "7 * 9 = 63\n",
      "7 * 10 = 70\n",
      "8 * 1 = 8\n",
      "8 * 2 = 16\n",
      "8 * 3 = 24\n",
      "8 * 4 = 32\n",
      "8 * 5 = 40\n",
      "8 * 6 = 48\n",
      "8 * 7 = 56\n",
      "8 * 8 = 64\n",
      "8 * 9 = 72\n",
      "8 * 10 = 80\n",
      "9 * 1 = 9\n",
      "9 * 2 = 18\n",
      "9 * 3 = 27\n",
      "9 * 4 = 36\n",
      "9 * 5 = 45\n",
      "9 * 6 = 54\n",
      "9 * 7 = 63\n",
      "9 * 8 = 72\n",
      "9 * 9 = 81\n",
      "9 * 10 = 90\n",
      "10 * 1 = 10\n",
      "10 * 2 = 20\n",
      "10 * 3 = 30\n",
      "10 * 4 = 40\n",
      "10 * 5 = 50\n",
      "10 * 6 = 60\n",
      "10 * 7 = 70\n",
      "10 * 8 = 80\n",
      "10 * 9 = 90\n",
      "10 * 10 = 100\n"
     ]
    }
   ],
   "source": [
    "# Nested loops\n",
    "for x in range(1, 11):\n",
    "    for y in range(1, 11):\n",
    "        print('%d * %d = %d' % (x, y, x*y))\n",
    "        \n",
    "        \n",
    "        \n",
    "# Each %d is a placeholder for an integer (d means decimal integer).\n",
    "# The values (x, y, x*y) are inserted into the placeholders in the same order."
   ]
  },
  {
   "cell_type": "code",
   "execution_count": 94,
   "id": "30df9f34",
   "metadata": {},
   "outputs": [
    {
     "name": "stdout",
     "output_type": "stream",
     "text": [
      "1 * 1 = 1\n",
      "1 * 2 = 2\n",
      "1 * 3 = 3\n",
      "1 * 4 = 4\n",
      "1 * 5 = 5\n",
      "1 * 6 = 6\n",
      "1 * 7 = 7\n",
      "1 * 8 = 8\n",
      "1 * 9 = 9\n",
      "1 * 10 = 10\n",
      "2 * 1 = 2\n",
      "2 * 2 = 4\n",
      "2 * 3 = 6\n",
      "2 * 4 = 8\n",
      "2 * 5 = 10\n",
      "2 * 6 = 12\n",
      "2 * 7 = 14\n",
      "2 * 8 = 16\n",
      "2 * 9 = 18\n",
      "2 * 10 = 20\n",
      "3 * 1 = 3\n",
      "3 * 2 = 6\n",
      "3 * 3 = 9\n",
      "3 * 4 = 12\n",
      "3 * 5 = 15\n",
      "3 * 6 = 18\n",
      "3 * 7 = 21\n",
      "3 * 8 = 24\n",
      "3 * 9 = 27\n",
      "3 * 10 = 30\n",
      "4 * 1 = 4\n",
      "4 * 2 = 8\n",
      "4 * 3 = 12\n",
      "4 * 4 = 16\n",
      "4 * 5 = 20\n",
      "4 * 6 = 24\n",
      "4 * 7 = 28\n",
      "4 * 8 = 32\n",
      "4 * 9 = 36\n",
      "4 * 10 = 40\n",
      "5 * 1 = 5\n",
      "5 * 2 = 10\n",
      "5 * 3 = 15\n",
      "5 * 4 = 20\n",
      "5 * 5 = 25\n",
      "5 * 6 = 30\n",
      "5 * 7 = 35\n",
      "5 * 8 = 40\n",
      "5 * 9 = 45\n",
      "5 * 10 = 50\n",
      "6 * 1 = 6\n",
      "6 * 2 = 12\n",
      "6 * 3 = 18\n",
      "6 * 4 = 24\n",
      "6 * 5 = 30\n",
      "6 * 6 = 36\n",
      "6 * 7 = 42\n",
      "6 * 8 = 48\n",
      "6 * 9 = 54\n",
      "6 * 10 = 60\n",
      "7 * 1 = 7\n",
      "7 * 2 = 14\n",
      "7 * 3 = 21\n",
      "7 * 4 = 28\n",
      "7 * 5 = 35\n",
      "7 * 6 = 42\n",
      "7 * 7 = 49\n",
      "7 * 8 = 56\n",
      "7 * 9 = 63\n",
      "7 * 10 = 70\n",
      "8 * 1 = 8\n",
      "8 * 2 = 16\n",
      "8 * 3 = 24\n",
      "8 * 4 = 32\n",
      "8 * 5 = 40\n",
      "8 * 6 = 48\n",
      "8 * 7 = 56\n",
      "8 * 8 = 64\n",
      "8 * 9 = 72\n",
      "8 * 10 = 80\n",
      "9 * 1 = 9\n",
      "9 * 2 = 18\n",
      "9 * 3 = 27\n",
      "9 * 4 = 36\n",
      "9 * 5 = 45\n",
      "9 * 6 = 54\n",
      "9 * 7 = 63\n",
      "9 * 8 = 72\n",
      "9 * 9 = 81\n",
      "9 * 10 = 90\n",
      "10 * 1 = 10\n",
      "10 * 2 = 20\n",
      "10 * 3 = 30\n",
      "10 * 4 = 40\n",
      "10 * 5 = 50\n",
      "10 * 6 = 60\n",
      "10 * 7 = 70\n",
      "10 * 8 = 80\n",
      "10 * 9 = 90\n",
      "10 * 10 = 100\n"
     ]
    }
   ],
   "source": [
    "# Nested loops\n",
    "for x in range(1, 11):\n",
    "    for y in range(1, 11):\n",
    "        print('{} * {} = {}'.format(x, y, x*y))   # using .format()\n"
   ]
  },
  {
   "cell_type": "markdown",
   "id": "e517be58",
   "metadata": {},
   "source": [
    "### Example: For Loop\n",
    "This code iterates over a sequence or container."
   ]
  },
  {
   "cell_type": "code",
   "execution_count": 95,
   "id": "a85fec4a",
   "metadata": {},
   "outputs": [
    {
     "name": "stdout",
     "output_type": "stream",
     "text": [
      "0\n",
      "1\n"
     ]
    }
   ],
   "source": [
    "# Break out of a loop on a condition\n",
    "for x in range(3):\n",
    "    print(x)\n",
    "    if x == 1:\n",
    "        break"
   ]
  },
  {
   "cell_type": "code",
   "execution_count": 96,
   "id": "694945e0",
   "metadata": {},
   "outputs": [
    {
     "name": "stdout",
     "output_type": "stream",
     "text": [
      "H\n",
      "e\n",
      "l\n",
      "l\n",
      "o\n",
      " \n",
      "W\n",
      "o\n",
      "r\n",
      "l\n",
      "d\n"
     ]
    }
   ],
   "source": [
    "string = 'Hello World'\n",
    "for x in string:\n",
    "    print(x)"
   ]
  },
  {
   "cell_type": "code",
   "execution_count": 97,
   "id": "942b4b1e",
   "metadata": {},
   "outputs": [
    {
     "name": "stdout",
     "output_type": "stream",
     "text": [
      "one\n",
      "two\n",
      "three\n"
     ]
    }
   ],
   "source": [
    "words = ['one', 'two', 'three']\n",
    "for element in words:\n",
    "    print(element)"
   ]
  },
  {
   "cell_type": "code",
   "execution_count": 98,
   "id": "ec5a03b1",
   "metadata": {},
   "outputs": [
    {
     "data": {
      "text/plain": [
       "3"
      ]
     },
     "execution_count": 98,
     "metadata": {},
     "output_type": "execute_result"
    }
   ],
   "source": [
    "len(words)"
   ]
  },
  {
   "cell_type": "code",
   "execution_count": 68,
   "id": "03682905",
   "metadata": {},
   "outputs": [
    {
     "data": {
      "text/plain": [
       "11"
      ]
     },
     "execution_count": 68,
     "metadata": {},
     "output_type": "execute_result"
    }
   ],
   "source": [
    "len(string)"
   ]
  },
  {
   "cell_type": "code",
   "execution_count": 69,
   "id": "102b85f9",
   "metadata": {},
   "outputs": [
    {
     "data": {
      "text/plain": [
       "3"
      ]
     },
     "execution_count": 69,
     "metadata": {},
     "output_type": "execute_result"
    }
   ],
   "source": [
    "len(words)"
   ]
  },
  {
   "cell_type": "code",
   "execution_count": 99,
   "id": "2bfcdab9",
   "metadata": {},
   "outputs": [
    {
     "name": "stdout",
     "output_type": "stream",
     "text": [
      "one\n",
      "two\n",
      "three\n"
     ]
    }
   ],
   "source": [
    "for i in range(len(words)):\n",
    "    print(words[i])"
   ]
  },
  {
   "cell_type": "code",
   "execution_count": 100,
   "id": "7dc39826",
   "metadata": {},
   "outputs": [
    {
     "name": "stdout",
     "output_type": "stream",
     "text": [
      "0\n",
      "one\n",
      "1\n",
      "two\n",
      "2\n",
      "three\n"
     ]
    }
   ],
   "source": [
    "for i in range(3):\n",
    "    print(i)\n",
    "    print(words[i])"
   ]
  },
  {
   "cell_type": "markdown",
   "id": "f7184ede",
   "metadata": {},
   "source": [
    "### Example: For Loop\n",
    "This code iterates over a sequence or container."
   ]
  },
  {
   "cell_type": "code",
   "execution_count": 101,
   "id": "65241a88",
   "metadata": {},
   "outputs": [
    {
     "name": "stdout",
     "output_type": "stream",
     "text": [
      "1\n",
      "2\n",
      "3\n",
      "4\n",
      "5\n",
      "6\n",
      "7\n",
      "8\n",
      "9\n"
     ]
    }
   ],
   "source": [
    "list_of_lists = [[1,2,3],[4,5,6],[7,8,9]]\n",
    "for lst in list_of_lists:\n",
    "    for x in lst:\n",
    "        print(x)"
   ]
  },
  {
   "cell_type": "markdown",
   "id": "688ab735",
   "metadata": {},
   "source": [
    "## Python \"if statements\" and \"while loops\"\n",
    "\n",
    "Conditional expressions can be used with these two **control flow statements**.\n",
    "\n",
    "The **if** statement allows you to check a condition and perform some actions if the condition evaluates to `True`. You can also add `elif` and/or `else` clauses to the if statement to perform alternative actions if the condition evaluates to `False`.\n",
    "\n",
    "A **while** loop will keep running as long as its conditional expression does not evaluate to `False`.\n",
    "\n",
    "> Note. When using a while loop with a condition that never evaluates to `False`, an \"infinite loop\" may occur.  \n",
    ">\n",
    "> Note. Since a **for** loop will iterate over a container of elements until there are none left, there is no need to specify a termination condition.\n"
   ]
  },
  {
   "cell_type": "markdown",
   "id": "a94c304a",
   "metadata": {},
   "source": [
    "### Explanation\n",
    "This code demonstrates Python usage."
   ]
  },
  {
   "cell_type": "code",
   "execution_count": 102,
   "id": "a2d627c1",
   "metadata": {},
   "outputs": [
    {
     "name": "stdout",
     "output_type": "stream",
     "text": [
      "a does not equal 3\n"
     ]
    }
   ],
   "source": [
    "a = 4\n",
    "if a == 3:\n",
    "    print('a equals 3')\n",
    "else:\n",
    "    print('a does not equal 3')"
   ]
  },
  {
   "cell_type": "code",
   "execution_count": 103,
   "id": "169931cf",
   "metadata": {},
   "outputs": [
    {
     "name": "stdout",
     "output_type": "stream",
     "text": [
      "a equals 4\n"
     ]
    }
   ],
   "source": [
    "a = 4\n",
    "if a == 3:\n",
    "    print('a equals 3')\n",
    "elif a == 4:\n",
    "    print('a equals 4')\n",
    "elif a == 5:\n",
    "    print('a equals 5')\n",
    "else:\n",
    "    print('a is not 3 or 4 or 5')"
   ]
  },
  {
   "cell_type": "code",
   "execution_count": 104,
   "id": "5b355cca",
   "metadata": {},
   "outputs": [
    {
     "name": "stdout",
     "output_type": "stream",
     "text": [
      "a is greater than 3\n"
     ]
    }
   ],
   "source": [
    "a = 5\n",
    "\n",
    "if a > 5:\n",
    "    print('a is greater than 5')\n",
    "elif a > 3:\n",
    "    print('a is greater than 3')\n",
    "else:\n",
    "    print('a is less than 3')"
   ]
  },
  {
   "cell_type": "code",
   "execution_count": 106,
   "id": "9ab1cf72",
   "metadata": {},
   "outputs": [
    {
     "name": "stdout",
     "output_type": "stream",
     "text": [
      "3\n"
     ]
    }
   ],
   "source": [
    "x = 5\n",
    "\n",
    "# Non-zero numbers (like 5) are considered True.\n",
    "# Only 0, None, False, empty strings \"\", empty lists [], etc. are False.\n",
    "if x:\n",
    "    a = 3\n",
    "else:\n",
    "    a = 2\n",
    "print(a)"
   ]
  },
  {
   "cell_type": "code",
   "execution_count": 111,
   "id": "011a0937",
   "metadata": {},
   "outputs": [
    {
     "name": "stdout",
     "output_type": "stream",
     "text": [
      "2\n"
     ]
    }
   ],
   "source": [
    "x = None\n",
    "if x:\n",
    "    a = 3\n",
    "else:\n",
    "    a = 2\n",
    "print(a)"
   ]
  },
  {
   "cell_type": "code",
   "execution_count": 112,
   "id": "f32063b7",
   "metadata": {},
   "outputs": [
    {
     "data": {
      "text/plain": [
       "2"
      ]
     },
     "execution_count": 112,
     "metadata": {},
     "output_type": "execute_result"
    }
   ],
   "source": [
    "# Set a to 3 if x is True, otherwise set it to 2.\n",
    "a = 3 if x else 2\n",
    "a"
   ]
  },
  {
   "cell_type": "code",
   "execution_count": 113,
   "id": "53749118",
   "metadata": {},
   "outputs": [
    {
     "name": "stdout",
     "output_type": "stream",
     "text": [
      "5\n"
     ]
    }
   ],
   "source": [
    "x = 3\n",
    "if x > 5:\n",
    "    a = 10\n",
    "else:\n",
    "    a = 5 \n",
    "print(a)"
   ]
  },
  {
   "cell_type": "code",
   "execution_count": 114,
   "id": "57dde2b7",
   "metadata": {},
   "outputs": [
    {
     "name": "stdout",
     "output_type": "stream",
     "text": [
      "5\n"
     ]
    }
   ],
   "source": [
    "a = 10 if x > 5 else 5\n",
    "print(a)"
   ]
  },
  {
   "cell_type": "markdown",
   "id": "3626149c",
   "metadata": {},
   "source": [
    "### Example: While Loop\n",
    "This code runs repeatedly until a condition is False."
   ]
  },
  {
   "cell_type": "code",
   "execution_count": 115,
   "id": "c3abecf5",
   "metadata": {},
   "outputs": [
    {
     "name": "stdout",
     "output_type": "stream",
     "text": [
      "0\n",
      "1\n",
      "2\n",
      "3\n",
      "4\n"
     ]
    }
   ],
   "source": [
    "a = 0\n",
    "while a < 5:\n",
    "    print(a)\n",
    "    a = a + 1"
   ]
  },
  {
   "cell_type": "markdown",
   "id": "d22e07e1",
   "metadata": {},
   "source": [
    "### Example: While Loop\n",
    "This code runs repeatedly until a condition is False."
   ]
  },
  {
   "cell_type": "code",
   "execution_count": 116,
   "id": "2d37207b",
   "metadata": {},
   "outputs": [
    {
     "name": "stdout",
     "output_type": "stream",
     "text": [
      "1\n",
      "2\n",
      "3\n",
      "4\n",
      "5\n"
     ]
    }
   ],
   "source": [
    "a = 0\n",
    "while a < 5:\n",
    "    a = a + 1\n",
    "    print(a)"
   ]
  },
  {
   "cell_type": "code",
   "execution_count": 117,
   "id": "31adb09d",
   "metadata": {},
   "outputs": [
    {
     "data": {
      "text/plain": [
       "5"
      ]
     },
     "execution_count": 117,
     "metadata": {},
     "output_type": "execute_result"
    }
   ],
   "source": [
    "a"
   ]
  },
  {
   "cell_type": "markdown",
   "id": "29214ede",
   "metadata": {},
   "source": [
    "### Example: While Loop\n",
    "This code runs repeatedly until a condition is False."
   ]
  },
  {
   "cell_type": "code",
   "execution_count": 118,
   "id": "243689a7",
   "metadata": {},
   "outputs": [
    {
     "ename": "KeyboardInterrupt",
     "evalue": "",
     "output_type": "error",
     "traceback": [
      "\u001b[31m---------------------------------------------------------------------------\u001b[39m",
      "\u001b[31mKeyboardInterrupt\u001b[39m                         Traceback (most recent call last)",
      "\u001b[36mCell\u001b[39m\u001b[36m \u001b[39m\u001b[32mIn[118]\u001b[39m\u001b[32m, line 1\u001b[39m\n\u001b[32m----> \u001b[39m\u001b[32m1\u001b[39m \u001b[38;5;28;01mwhile\u001b[39;00m \u001b[38;5;28;01mTrue\u001b[39;00m:\n\u001b[32m      2\u001b[39m     \u001b[38;5;28;01mif\u001b[39;00m a == \u001b[32m6\u001b[39m:\n\u001b[32m      3\u001b[39m         \u001b[38;5;28;01mbreak\u001b[39;00m\n",
      "\u001b[31mKeyboardInterrupt\u001b[39m: "
     ]
    }
   ],
   "source": [
    "while True:\n",
    "    if a == 6:\n",
    "        break"
   ]
  },
  {
   "cell_type": "markdown",
   "id": "5e18166a",
   "metadata": {},
   "source": [
    "# 1.5 Some Details of Python Basics\n",
    "\n",
    "## Built-in Functions and Callable Objects in Python\n",
    "\n",
    "A **function** is a Python object that you can \"call\" to **perform an action** or make a computation and **return another object**. You call a function by writing parentheses to the right of its name. Some functions allow passing **arguments** inside the parentheses (separating multiple arguments with a comma). Inside the function, these arguments are treated as variables.\n",
    "\n",
    "Python has several useful built-in functions that help you work with different objects and/or your environment. Here are a few of them:\n",
    "\n",
    "- **`type(obj)`** to determine the type of an object  \n",
    "- **`len(container)`** to find out how many elements are in a container  \n",
    "- **`callable(obj)`** to check if an object can be called  \n",
    "- **`sorted(container)`** to return a new list from a container with elements sorted  \n",
    "- **`sum(container)`** to calculate the sum of elements in a container  \n",
    "- **`min(container)`** to find the smallest element in a container  \n",
    "- **`max(container)`** to find the largest element in a container  \n",
    "- **`abs(number)`** to find the absolute value of a number  \n",
    "- **`repr(obj)`** to return the string representation of an object  \n",
    "\n",
    "> Full list of built-in functions: https://docs.python.org/3/library/functions.html  \n",
    "\n",
    "There are also various ways to define your own functions and callable objects, which we will cover later.\n"
   ]
  },
  {
   "cell_type": "code",
   "execution_count": 85,
   "id": "faf80b81",
   "metadata": {},
   "outputs": [
    {
     "data": {
      "text/plain": [
       "str"
      ]
     },
     "execution_count": 85,
     "metadata": {},
     "output_type": "execute_result"
    }
   ],
   "source": [
    "type(simple_string1)"
   ]
  },
  {
   "cell_type": "code",
   "execution_count": 119,
   "id": "5def3ffd",
   "metadata": {},
   "outputs": [
    {
     "data": {
      "text/plain": [
       "{'name': 'Jane',\n",
       " 'age': 23,\n",
       " 'fav_foods': ['pizza', 'fruit', 'fish', 'sss'],\n",
       " 'height': 165}"
      ]
     },
     "execution_count": 119,
     "metadata": {},
     "output_type": "execute_result"
    }
   ],
   "source": [
    "dict1"
   ]
  },
  {
   "cell_type": "code",
   "execution_count": 120,
   "id": "f039e2a3",
   "metadata": {},
   "outputs": [
    {
     "data": {
      "text/plain": [
       "4"
      ]
     },
     "execution_count": 120,
     "metadata": {},
     "output_type": "execute_result"
    }
   ],
   "source": [
    "len(dict1)"
   ]
  },
  {
   "cell_type": "code",
   "execution_count": 121,
   "id": "6832e1b8",
   "metadata": {},
   "outputs": [
    {
     "data": {
      "text/plain": [
       "'oranges oranges oranges '"
      ]
     },
     "execution_count": 121,
     "metadata": {},
     "output_type": "execute_result"
    }
   ],
   "source": [
    "simple_string2"
   ]
  },
  {
   "cell_type": "code",
   "execution_count": 123,
   "id": "3c9d1166",
   "metadata": {},
   "outputs": [
    {
     "data": {
      "text/plain": [
       "24"
      ]
     },
     "execution_count": 123,
     "metadata": {},
     "output_type": "execute_result"
    }
   ],
   "source": [
    "len(simple_string2)"
   ]
  },
  {
   "cell_type": "code",
   "execution_count": 88,
   "id": "b7ec5919",
   "metadata": {},
   "outputs": [
    {
     "data": {
      "text/plain": [
       "True"
      ]
     },
     "execution_count": 88,
     "metadata": {},
     "output_type": "execute_result"
    }
   ],
   "source": [
    "callable(len)"
   ]
  },
  {
   "cell_type": "code",
   "execution_count": 124,
   "id": "b54fd213",
   "metadata": {},
   "outputs": [
    {
     "data": {
      "text/plain": [
       "False"
      ]
     },
     "execution_count": 124,
     "metadata": {},
     "output_type": "execute_result"
    }
   ],
   "source": [
    "# Functions, methods, and classes are callable.\n",
    "# Normal data types like int, str, list, dict instances are not callable.\n",
    "callable(dict1)"
   ]
  },
  {
   "cell_type": "code",
   "execution_count": 125,
   "id": "04da73d3",
   "metadata": {},
   "outputs": [
    {
     "data": {
      "text/plain": [
       "[-3, 1, 2, 3.6, 5, 7, 10]"
      ]
     },
     "execution_count": 125,
     "metadata": {},
     "output_type": "execute_result"
    }
   ],
   "source": [
    "sorted([10,1,3.6,7,5,2,-3])"
   ]
  },
  {
   "cell_type": "code",
   "execution_count": 126,
   "id": "581af765",
   "metadata": {},
   "outputs": [
    {
     "data": {
      "text/plain": [
       "['California', 'Chicago', 'ants', 'cats', 'dogs', 'mice', 'zebras']"
      ]
     },
     "execution_count": 126,
     "metadata": {},
     "output_type": "execute_result"
    }
   ],
   "source": [
    "sorted(['dogs','cats','zebras','Chicago','California','ants','mice'])"
   ]
  },
  {
   "cell_type": "code",
   "execution_count": 128,
   "id": "b4ef8c49",
   "metadata": {},
   "outputs": [
    {
     "data": {
      "text/plain": [
       "25.6"
      ]
     },
     "execution_count": 128,
     "metadata": {},
     "output_type": "execute_result"
    }
   ],
   "source": [
    "sum([10,1,3.6,7,5,2,-3])"
   ]
  },
  {
   "cell_type": "code",
   "execution_count": 129,
   "id": "7147aa39",
   "metadata": {},
   "outputs": [
    {
     "data": {
      "text/plain": [
       "-3"
      ]
     },
     "execution_count": 129,
     "metadata": {},
     "output_type": "execute_result"
    }
   ],
   "source": [
    "min([10,1,3.6,7,5,2,-3])"
   ]
  },
  {
   "cell_type": "code",
   "execution_count": 130,
   "id": "0b6b6ce7",
   "metadata": {},
   "outputs": [
    {
     "data": {
      "text/plain": [
       "'a'"
      ]
     },
     "execution_count": 130,
     "metadata": {},
     "output_type": "execute_result"
    }
   ],
   "source": [
    "min(['g','z','a','y'])"
   ]
  },
  {
   "cell_type": "code",
   "execution_count": 131,
   "id": "b2b81e4c",
   "metadata": {},
   "outputs": [
    {
     "data": {
      "text/plain": [
       "10"
      ]
     },
     "execution_count": 131,
     "metadata": {},
     "output_type": "execute_result"
    }
   ],
   "source": [
    "max([10,1,3.6,7,5,2,-3])"
   ]
  },
  {
   "cell_type": "code",
   "execution_count": 96,
   "id": "059baeaa",
   "metadata": {},
   "outputs": [
    {
     "data": {
      "text/plain": [
       "'s'"
      ]
     },
     "execution_count": 96,
     "metadata": {},
     "output_type": "execute_result"
    }
   ],
   "source": [
    "max('gibberish')"
   ]
  },
  {
   "cell_type": "code",
   "execution_count": 132,
   "id": "6a8d6dd3",
   "metadata": {},
   "outputs": [
    {
     "data": {
      "text/plain": [
       "10"
      ]
     },
     "execution_count": 132,
     "metadata": {},
     "output_type": "execute_result"
    }
   ],
   "source": [
    "abs(10)"
   ]
  },
  {
   "cell_type": "code",
   "execution_count": 133,
   "id": "adb1aef0",
   "metadata": {},
   "outputs": [
    {
     "data": {
      "text/plain": [
       "12"
      ]
     },
     "execution_count": 133,
     "metadata": {},
     "output_type": "execute_result"
    }
   ],
   "source": [
    "abs(-12)"
   ]
  },
  {
   "cell_type": "code",
   "execution_count": 99,
   "id": "045a86d1",
   "metadata": {},
   "outputs": [
    {
     "data": {
      "text/plain": [
       "\"{False, 3, 5, 6, 'cat', 'dog'}\""
      ]
     },
     "execution_count": 99,
     "metadata": {},
     "output_type": "execute_result"
    }
   ],
   "source": [
    "repr(set1)"
   ]
  },
  {
   "cell_type": "markdown",
   "id": "aebe02be",
   "metadata": {},
   "source": [
    "## Python Object Attributes (Methods and Properties)\n",
    "\n",
    "Different types of objects in Python have various **attributes** that can be referenced by name (similar to a variable). To access an object's attribute, use a dot (`.`) after the object, followed by the attribute name (e.g., `obj.attribute`).\n",
    "\n",
    "If an object's attribute is callable, that attribute is called a **method**. It is similar to a function, except that the function is bound to a specific object.\n",
    "\n",
    "If an object's attribute is not callable, that attribute is called a **property**. It is simply a piece of data about the object, which itself is another object.\n",
    "\n",
    "The built-in function `dir()` can be used to return a list of an object's attributes.\n",
    "\n",
    "<hr>\n"
   ]
  },
  {
   "cell_type": "markdown",
   "id": "7767061d",
   "metadata": {},
   "source": [
    "## Some Methods for String Objects (`string`, `str`)\n",
    "\n",
    "- **`.capitalize()`** to return a version of the string with the first character capitalized  \n",
    "- **`.upper()`** to return a version of the string in uppercase (all characters in uppercase)  \n",
    "- **`.lower()`** to return a version of the string in lowercase (all characters in lowercase)  \n",
    "- **`.count(substring)`** to return the number of occurrences of a substring in the string  \n",
    "- **`.startswith(substring)`** to check if the string starts with the substring  \n",
    "- **`.endswith(substring)`** to check if the string ends with the substring  \n",
    "- **`.replace(old, new)`** to return a copy of the string with \"old\" replaced by \"new\"  \n"
   ]
  },
  {
   "cell_type": "code",
   "execution_count": 135,
   "id": "b9f80c01",
   "metadata": {},
   "outputs": [],
   "source": [
    "a_string = 'tHis is a sTriNg'"
   ]
  },
  {
   "cell_type": "code",
   "execution_count": 136,
   "id": "ea650430",
   "metadata": {},
   "outputs": [
    {
     "data": {
      "text/plain": [
       "'This is a string'"
      ]
     },
     "execution_count": 136,
     "metadata": {},
     "output_type": "execute_result"
    }
   ],
   "source": [
    "a_string.capitalize()"
   ]
  },
  {
   "cell_type": "code",
   "execution_count": 137,
   "id": "be102392",
   "metadata": {},
   "outputs": [
    {
     "data": {
      "text/plain": [
       "'THIS IS A STRING'"
      ]
     },
     "execution_count": 137,
     "metadata": {},
     "output_type": "execute_result"
    }
   ],
   "source": [
    "a_string.upper()"
   ]
  },
  {
   "cell_type": "code",
   "execution_count": 138,
   "id": "16779c27",
   "metadata": {},
   "outputs": [
    {
     "data": {
      "text/plain": [
       "'this is a string'"
      ]
     },
     "execution_count": 138,
     "metadata": {},
     "output_type": "execute_result"
    }
   ],
   "source": [
    "a_string.lower()"
   ]
  },
  {
   "cell_type": "code",
   "execution_count": 139,
   "id": "0448e35f",
   "metadata": {},
   "outputs": [
    {
     "data": {
      "text/plain": [
       "'tHis is a sTriNg'"
      ]
     },
     "execution_count": 139,
     "metadata": {},
     "output_type": "execute_result"
    }
   ],
   "source": [
    "a_string"
   ]
  },
  {
   "cell_type": "code",
   "execution_count": 140,
   "id": "265a8e85",
   "metadata": {},
   "outputs": [
    {
     "data": {
      "text/plain": [
       "3"
      ]
     },
     "execution_count": 140,
     "metadata": {},
     "output_type": "execute_result"
    }
   ],
   "source": [
    "a_string.count('i')"
   ]
  },
  {
   "cell_type": "code",
   "execution_count": 141,
   "id": "417c79a1",
   "metadata": {},
   "outputs": [
    {
     "data": {
      "text/plain": [
       "2"
      ]
     },
     "execution_count": 141,
     "metadata": {},
     "output_type": "execute_result"
    }
   ],
   "source": [
    "a_string.count('is')"
   ]
  },
  {
   "cell_type": "code",
   "execution_count": 143,
   "id": "45aa0723",
   "metadata": {},
   "outputs": [
    {
     "data": {
      "text/plain": [
       "1"
      ]
     },
     "execution_count": 143,
     "metadata": {},
     "output_type": "execute_result"
    }
   ],
   "source": [
    "# Start searching from index 7\n",
    "a_string.count('i', 7)"
   ]
  },
  {
   "cell_type": "code",
   "execution_count": 144,
   "id": "239b6748",
   "metadata": {},
   "outputs": [
    {
     "data": {
      "text/plain": [
       "False"
      ]
     },
     "execution_count": 144,
     "metadata": {},
     "output_type": "execute_result"
    }
   ],
   "source": [
    "a_string.startswith('this')"
   ]
  },
  {
   "cell_type": "code",
   "execution_count": 145,
   "id": "c96098a5",
   "metadata": {},
   "outputs": [
    {
     "data": {
      "text/plain": [
       "True"
      ]
     },
     "execution_count": 145,
     "metadata": {},
     "output_type": "execute_result"
    }
   ],
   "source": [
    "a_string.lower().startswith('this')"
   ]
  },
  {
   "cell_type": "code",
   "execution_count": 146,
   "id": "cad7b890",
   "metadata": {},
   "outputs": [
    {
     "data": {
      "text/plain": [
       "True"
      ]
     },
     "execution_count": 146,
     "metadata": {},
     "output_type": "execute_result"
    }
   ],
   "source": [
    "a_string.endswith('Ng')"
   ]
  },
  {
   "cell_type": "code",
   "execution_count": 147,
   "id": "f585bb76",
   "metadata": {},
   "outputs": [
    {
     "data": {
      "text/plain": [
       "'tHXYZ XYZ a sTriNg'"
      ]
     },
     "execution_count": 147,
     "metadata": {},
     "output_type": "execute_result"
    }
   ],
   "source": [
    "a_string.replace('is', 'XYZ')"
   ]
  },
  {
   "cell_type": "code",
   "execution_count": 148,
   "id": "b2a801a7",
   "metadata": {},
   "outputs": [
    {
     "data": {
      "text/plain": [
       "'tH!s !s a sTr!Ng'"
      ]
     },
     "execution_count": 148,
     "metadata": {},
     "output_type": "execute_result"
    }
   ],
   "source": [
    "a_string.replace('i', '!')"
   ]
  },
  {
   "cell_type": "code",
   "execution_count": 149,
   "id": "429b20ef",
   "metadata": {},
   "outputs": [
    {
     "data": {
      "text/plain": [
       "'tH!s !s a sTriNg'"
      ]
     },
     "execution_count": 149,
     "metadata": {},
     "output_type": "execute_result"
    }
   ],
   "source": [
    "a_string.replace('i', '!', 2)"
   ]
  },
  {
   "cell_type": "markdown",
   "id": "ed48afc9",
   "metadata": {},
   "source": [
    "## Some Methods for List Objects (`list`)\n",
    "\n",
    "- **`.append(item)`** to add a single item to the list  \n",
    "- **`.extend([item1, item2, ...])`** to add multiple items to the list  \n",
    "- **`.remove(item)`** to remove a single item from the list  \n",
    "- **`.pop()`** to remove and return the last item in the list  \n",
    "- **`.pop(index)`** to remove and return the item at a specific index  \n"
   ]
  },
  {
   "cell_type": "code",
   "execution_count": 150,
   "id": "fe848c6e",
   "metadata": {},
   "outputs": [],
   "source": [
    "sample_list = [1,2,3]"
   ]
  },
  {
   "cell_type": "code",
   "execution_count": 151,
   "id": "c846adfb",
   "metadata": {},
   "outputs": [
    {
     "data": {
      "text/plain": [
       "[1, 2, 3, 4]"
      ]
     },
     "execution_count": 151,
     "metadata": {},
     "output_type": "execute_result"
    }
   ],
   "source": [
    "sample_list.append(4)\n",
    "sample_list"
   ]
  },
  {
   "cell_type": "code",
   "execution_count": 152,
   "id": "ecac0fd4",
   "metadata": {},
   "outputs": [
    {
     "data": {
      "text/plain": [
       "[1, 2, 3, 4, 5, 6, 7]"
      ]
     },
     "execution_count": 152,
     "metadata": {},
     "output_type": "execute_result"
    }
   ],
   "source": [
    "sample_list.extend([5,6,7])\n",
    "sample_list"
   ]
  },
  {
   "cell_type": "code",
   "execution_count": 153,
   "id": "c0e98bd8",
   "metadata": {},
   "outputs": [
    {
     "data": {
      "text/plain": [
       "[1, 2, 3, 5, 6, 7]"
      ]
     },
     "execution_count": 153,
     "metadata": {},
     "output_type": "execute_result"
    }
   ],
   "source": [
    "sample_list.remove(4)\n",
    "sample_list"
   ]
  },
  {
   "cell_type": "code",
   "execution_count": 154,
   "id": "e2ea52b3",
   "metadata": {},
   "outputs": [
    {
     "data": {
      "text/plain": [
       "([1, 2, 3, 5, 6], 7)"
      ]
     },
     "execution_count": 154,
     "metadata": {},
     "output_type": "execute_result"
    }
   ],
   "source": [
    "popped_element = sample_list.pop()\n",
    "sample_list, popped_element"
   ]
  },
  {
   "cell_type": "code",
   "execution_count": 155,
   "id": "eb292b7b",
   "metadata": {},
   "outputs": [
    {
     "data": {
      "text/plain": [
       "([1, 3, 5, 6], 2)"
      ]
     },
     "execution_count": 155,
     "metadata": {},
     "output_type": "execute_result"
    }
   ],
   "source": [
    "popped_element = sample_list.pop(1)\n",
    "sample_list, popped_element"
   ]
  },
  {
   "cell_type": "markdown",
   "id": "62e9fe87",
   "metadata": {},
   "source": [
    "## Some Methods for Set Objects (`set`)\n",
    "\n",
    "- **`.add(item)`** to add a single item to the set  \n",
    "- **`.update([item1, item2, ...])`** to add multiple items to the set  \n",
    "- **`.update(set2, set3, ...)`** to add elements from all provided sets into the set  \n",
    "- **`.remove(item)`** to remove a single item from the set  \n",
    "- **`.pop()`** to remove and return a random item from the set  \n",
    "- **`.difference(set2)`** to return elements in the set that are not in another set  \n",
    "- **`.intersection(set2)`** to return elements present in both sets  \n",
    "- **`.union(set2)`** to return elements present in either set  \n",
    "- **`.symmetric_difference(set2)`** to return elements that are in only one set (but not in both)  \n",
    "- **`.issuperset(set2)`** does this set contain all elements of another set?  \n",
    "- **`.issubset(set2)`** is this set contained within another set?  \n"
   ]
  },
  {
   "cell_type": "markdown",
   "id": "89a8e3aa",
   "metadata": {},
   "source": [
    "### Example: Working with Sets\n",
    "This code demonstrates set operations."
   ]
  },
  {
   "cell_type": "code",
   "execution_count": 156,
   "id": "9fb21eff",
   "metadata": {},
   "outputs": [],
   "source": [
    "sample_set = {1,2,3}"
   ]
  },
  {
   "cell_type": "code",
   "execution_count": 157,
   "id": "d8df41af",
   "metadata": {},
   "outputs": [
    {
     "data": {
      "text/plain": [
       "{1, 2, 3, 4}"
      ]
     },
     "execution_count": 157,
     "metadata": {},
     "output_type": "execute_result"
    }
   ],
   "source": [
    "sample_set.add(4)\n",
    "sample_set"
   ]
  },
  {
   "cell_type": "code",
   "execution_count": 158,
   "id": "1632f9da",
   "metadata": {},
   "outputs": [
    {
     "data": {
      "text/plain": [
       "{1, 2, 3, 4, 5, 6}"
      ]
     },
     "execution_count": 158,
     "metadata": {},
     "output_type": "execute_result"
    }
   ],
   "source": [
    "sample_set.update([5,6])\n",
    "sample_set"
   ]
  },
  {
   "cell_type": "code",
   "execution_count": 159,
   "id": "d69d479a",
   "metadata": {},
   "outputs": [
    {
     "data": {
      "text/plain": [
       "{1, 2, 3, 4, 5, 6, 7, 8, 9, 10}"
      ]
     },
     "execution_count": 159,
     "metadata": {},
     "output_type": "execute_result"
    }
   ],
   "source": [
    "sample_set.update({7,8}, {9,10})\n",
    "sample_set"
   ]
  },
  {
   "cell_type": "code",
   "execution_count": 160,
   "id": "4425403a",
   "metadata": {},
   "outputs": [
    {
     "data": {
      "text/plain": [
       "{1, 2, 3, 4, 5, 6, 8, 9, 10}"
      ]
     },
     "execution_count": 160,
     "metadata": {},
     "output_type": "execute_result"
    }
   ],
   "source": [
    "sample_set.remove(7)\n",
    "sample_set"
   ]
  },
  {
   "cell_type": "code",
   "execution_count": 161,
   "id": "37963c29",
   "metadata": {},
   "outputs": [
    {
     "data": {
      "text/plain": [
       "({2, 3, 4, 5, 6, 8, 9, 10}, 1)"
      ]
     },
     "execution_count": 161,
     "metadata": {},
     "output_type": "execute_result"
    }
   ],
   "source": [
    "popped_value = sample_set.pop()\n",
    "sample_set, popped_value"
   ]
  },
  {
   "cell_type": "code",
   "execution_count": 162,
   "id": "9f2a8e29",
   "metadata": {},
   "outputs": [
    {
     "data": {
      "text/plain": [
       "({3, 4, 5, 6, 8, 9, 10}, 2)"
      ]
     },
     "execution_count": 162,
     "metadata": {},
     "output_type": "execute_result"
    }
   ],
   "source": [
    "popped_value = sample_set.pop()\n",
    "sample_set, popped_value"
   ]
  },
  {
   "cell_type": "code",
   "execution_count": 163,
   "id": "b03dca47",
   "metadata": {},
   "outputs": [
    {
     "data": {
      "text/plain": [
       "({4, 5, 6, 8, 9, 10}, 3)"
      ]
     },
     "execution_count": 163,
     "metadata": {},
     "output_type": "execute_result"
    }
   ],
   "source": [
    "popped_value = sample_set.pop()\n",
    "sample_set, popped_value"
   ]
  },
  {
   "cell_type": "markdown",
   "id": "be6bae1f",
   "metadata": {},
   "source": [
    "Everything described below can be illustrated as follows:\n",
    "\n",
    "![](https://www.learnbyexample.org/wp-content/uploads/python/Python-Set-Operatioons.png)"
   ]
  },
  {
   "cell_type": "markdown",
   "id": "9e6755db",
   "metadata": {},
   "source": [
    "### Example: Working with Sets\n",
    "This code demonstrates set operations."
   ]
  },
  {
   "cell_type": "code",
   "execution_count": 164,
   "id": "459244b0",
   "metadata": {},
   "outputs": [
    {
     "data": {
      "text/plain": [
       "{1, 2}"
      ]
     },
     "execution_count": 164,
     "metadata": {},
     "output_type": "execute_result"
    }
   ],
   "source": [
    "set1 = {1,2,3,4,5}\n",
    "set2 = {3,4,5,6,7}\n",
    "set1.difference(set2)"
   ]
  },
  {
   "cell_type": "code",
   "execution_count": 165,
   "id": "c2356af4",
   "metadata": {},
   "outputs": [
    {
     "data": {
      "text/plain": [
       "{3, 4, 5}"
      ]
     },
     "execution_count": 165,
     "metadata": {},
     "output_type": "execute_result"
    }
   ],
   "source": [
    "set1.intersection(set2)"
   ]
  },
  {
   "cell_type": "code",
   "execution_count": 166,
   "id": "9c1dd88a",
   "metadata": {},
   "outputs": [
    {
     "data": {
      "text/plain": [
       "{1, 2, 3, 4, 5, 6, 7}"
      ]
     },
     "execution_count": 166,
     "metadata": {},
     "output_type": "execute_result"
    }
   ],
   "source": [
    "set1.union(set2)"
   ]
  },
  {
   "cell_type": "code",
   "execution_count": 167,
   "id": "8cbc4d42",
   "metadata": {},
   "outputs": [
    {
     "data": {
      "text/plain": [
       "{1, 2, 6, 7}"
      ]
     },
     "execution_count": 167,
     "metadata": {},
     "output_type": "execute_result"
    }
   ],
   "source": [
    "set1.symmetric_difference(set2)"
   ]
  },
  {
   "cell_type": "code",
   "execution_count": 168,
   "id": "8e64b979",
   "metadata": {},
   "outputs": [
    {
     "data": {
      "text/plain": [
       "False"
      ]
     },
     "execution_count": 168,
     "metadata": {},
     "output_type": "execute_result"
    }
   ],
   "source": [
    "set1.issuperset(set2)"
   ]
  },
  {
   "cell_type": "code",
   "execution_count": 169,
   "id": "47fa17e0",
   "metadata": {},
   "outputs": [
    {
     "data": {
      "text/plain": [
       "True"
      ]
     },
     "execution_count": 169,
     "metadata": {},
     "output_type": "execute_result"
    }
   ],
   "source": [
    "set1.issuperset({1,2})"
   ]
  },
  {
   "cell_type": "code",
   "execution_count": 170,
   "id": "5a919814",
   "metadata": {},
   "outputs": [
    {
     "data": {
      "text/plain": [
       "False"
      ]
     },
     "execution_count": 170,
     "metadata": {},
     "output_type": "execute_result"
    }
   ],
   "source": [
    "set1.issubset(set2)"
   ]
  },
  {
   "cell_type": "code",
   "execution_count": 171,
   "id": "46fff682",
   "metadata": {},
   "outputs": [
    {
     "data": {
      "text/plain": [
       "True"
      ]
     },
     "execution_count": 171,
     "metadata": {},
     "output_type": "execute_result"
    }
   ],
   "source": [
    "set1.issubset({1,2,3,4,5,6,7})"
   ]
  },
  {
   "cell_type": "markdown",
   "id": "bc9a18bf",
   "metadata": {},
   "source": [
    "## Some Methods for Dictionary Objects (`dict`)\n",
    "\n",
    "- **`.update([(key1, val1), (key2, val2), ...])`** to add multiple key-value pairs to the dictionary  \n",
    "- **`.update(dict2)`** to add all keys and values from another dictionary into the dictionary  \n",
    "- **`.pop(key)`** to remove a key and return its value from the dictionary (raises an error if the key is not found)  \n",
    "- **`.pop(key, default_val)`** to remove a key and return its value from the dictionary (or return `default_val` if the key is not found)  \n",
    "- **`.get(key)`** to return the value for the specified key in the dictionary (or `None` if the key is not found)  \n",
    "- **`.get(key, default_val)`** to return the value for the specified key in the dictionary (or `default_val` if the key is not found)  \n",
    "- **`.keys()`** to return a list of keys in the dictionary  \n",
    "- **`.values()`** to return a list of values in the dictionary  \n",
    "- **`.items()`** to return a list of key-value pairs (tuples) in the dictionary  \n"
   ]
  },
  {
   "cell_type": "markdown",
   "id": "f54ad746",
   "metadata": {},
   "source": [
    "### Example: Working with Dictionaries\n",
    "This code demonstrates dictionary usage."
   ]
  },
  {
   "cell_type": "code",
   "execution_count": 2,
   "id": "02047d72",
   "metadata": {},
   "outputs": [],
   "source": [
    "sample_dict = {'name': 'Ivan', 'age': 20}"
   ]
  },
  {
   "cell_type": "markdown",
   "id": "c4260d07",
   "metadata": {},
   "source": [
    "### Example: Working with Dictionaries\n",
    "This code demonstrates dictionary usage."
   ]
  },
  {
   "cell_type": "code",
   "execution_count": 3,
   "id": "548934a2",
   "metadata": {},
   "outputs": [
    {
     "data": {
      "text/plain": [
       "{'name': 'Ivan', 'age': 20, 'city': 'Moscow'}"
      ]
     },
     "execution_count": 3,
     "metadata": {},
     "output_type": "execute_result"
    }
   ],
   "source": [
    "sample_dict.update([('city','Moscow')])\n",
    "sample_dict"
   ]
  },
  {
   "cell_type": "code",
   "execution_count": 4,
   "id": "58870370",
   "metadata": {},
   "outputs": [
    {
     "data": {
      "text/plain": [
       "{'name': 'Ivan',\n",
       " 'age': 20,\n",
       " 'city': 'Moscow',\n",
       " 'fav_food': 'apple',\n",
       " 'language': 'Russian'}"
      ]
     },
     "execution_count": 4,
     "metadata": {},
     "output_type": "execute_result"
    }
   ],
   "source": [
    "dict_to_add = {'fav_food': 'apple', 'language': 'Russian'}\n",
    "sample_dict.update(dict_to_add)\n",
    "sample_dict"
   ]
  },
  {
   "cell_type": "code",
   "execution_count": 5,
   "id": "931f542a",
   "metadata": {},
   "outputs": [
    {
     "data": {
      "text/plain": [
       "({'name': 'Ivan', 'age': 20, 'city': 'Moscow', 'fav_food': 'apple'}, 'Russian')"
      ]
     },
     "execution_count": 5,
     "metadata": {},
     "output_type": "execute_result"
    }
   ],
   "source": [
    "popped_value = sample_dict.pop('language')\n",
    "sample_dict, popped_value"
   ]
  },
  {
   "cell_type": "code",
   "execution_count": 6,
   "id": "691b59d9",
   "metadata": {},
   "outputs": [
    {
     "data": {
      "text/plain": [
       "'Ivan'"
      ]
     },
     "execution_count": 6,
     "metadata": {},
     "output_type": "execute_result"
    }
   ],
   "source": [
    "sample_dict.get('name')"
   ]
  },
  {
   "cell_type": "code",
   "execution_count": 7,
   "id": "31ce3d6d",
   "metadata": {},
   "outputs": [
    {
     "data": {
      "text/plain": [
       "'Unknown'"
      ]
     },
     "execution_count": 7,
     "metadata": {},
     "output_type": "execute_result"
    }
   ],
   "source": [
    "sample_dict.get('surname', 'Unknown')"
   ]
  },
  {
   "cell_type": "code",
   "execution_count": 8,
   "id": "89e4253d",
   "metadata": {},
   "outputs": [
    {
     "data": {
      "text/plain": [
       "dict_keys(['name', 'age', 'city', 'fav_food'])"
      ]
     },
     "execution_count": 8,
     "metadata": {},
     "output_type": "execute_result"
    }
   ],
   "source": [
    "sample_dict.keys()"
   ]
  },
  {
   "cell_type": "code",
   "execution_count": 9,
   "id": "7855cc2d",
   "metadata": {},
   "outputs": [
    {
     "data": {
      "text/plain": [
       "dict_values(['Ivan', 20, 'Moscow', 'apple'])"
      ]
     },
     "execution_count": 9,
     "metadata": {},
     "output_type": "execute_result"
    }
   ],
   "source": [
    "sample_dict.values()"
   ]
  },
  {
   "cell_type": "code",
   "execution_count": 10,
   "id": "50f955f2",
   "metadata": {},
   "outputs": [
    {
     "data": {
      "text/plain": [
       "dict_items([('name', 'Ivan'), ('age', 20), ('city', 'Moscow'), ('fav_food', 'apple')])"
      ]
     },
     "execution_count": 10,
     "metadata": {},
     "output_type": "execute_result"
    }
   ],
   "source": [
    "sample_dict.items()"
   ]
  },
  {
   "cell_type": "code",
   "execution_count": 11,
   "id": "4856e98a",
   "metadata": {},
   "outputs": [
    {
     "name": "stdout",
     "output_type": "stream",
     "text": [
      "This is key: name. And this is value: Ivan\n",
      "This is key: age. And this is value: 20\n",
      "This is key: city. And this is value: Moscow\n",
      "This is key: fav_food. And this is value: apple\n"
     ]
    }
   ],
   "source": [
    "for key, value in sample_dict.items():\n",
    "    print('This is key:', key + '. And this is value:', value)"
   ]
  },
  {
   "cell_type": "markdown",
   "id": "0054116c",
   "metadata": {},
   "source": [
    "# 2. For Those Who Survived the First Stage (Conditionally Advanced Level)\n",
    "\n",
    "## Positional and Keyword Arguments for Callable Objects\n",
    "\n",
    "You can call a function/method in several ways:\n",
    "\n",
    "- `func()`: call `func` without any arguments.  \n",
    "- `func(arg)`: call `func` with one positional argument.  \n",
    "- `func(arg1, arg2)`: call `func` with two positional arguments.  \n",
    "- `func(arg1, arg2, ..., argn)`: call `func` with many positional arguments.  \n",
    "- `func(kwarg=value)`: call `func` with one keyword argument.  \n",
    "- `func(kwarg1=value1, kwarg2=value2)`: call `func` with two keyword arguments.  \n",
    "- `func(kwarg1=value1, kwarg2=value2, ..., kwargn=valuen)`: call `func` with multiple keyword arguments.  \n",
    "- `func(arg1, arg2, kwarg1=value1, kwarg2=value2)`: call `func` with positional and keyword arguments.  \n",
    "- `obj.method()`: the same applies for `func`... and any other example of `func`.  \n",
    "\n",
    "When using **positional arguments**, you must provide them in the order in which they were defined in the function (**function signature**).\n",
    "\n",
    "When using **keyword arguments**, you can specify the desired arguments in any order, as long as you provide the name of each argument.\n",
    "\n",
    "When using both positional and keyword arguments together, positional arguments must come first.\n"
   ]
  },
  {
   "cell_type": "markdown",
   "id": "b9d5865a",
   "metadata": {},
   "source": [
    "## String formatting and placeholders\n",
    "\n",
    "(Exercises left intentionally.)"
   ]
  },
  {
   "cell_type": "markdown",
   "id": "31f27444",
   "metadata": {},
   "source": [
    "## List, set, and dict comprehensions\n",
    "\n",
    "(Exercises left intentionally.)"
   ]
  },
  {
   "cell_type": "markdown",
   "id": "fe35bbd3",
   "metadata": {},
   "source": [
    "## Creating objects from arguments or other objects\n",
    "\n",
    "All basic types provide constructors: `int`, `float`, `str`, `list`, `tuple`, `set`, `dict`.\n"
   ]
  },
  {
   "cell_type": "markdown",
   "id": "39cfa88b",
   "metadata": {},
   "source": [
    "## Importing libraries"
   ]
  },
  {
   "cell_type": "markdown",
   "id": "cb8abe7b",
   "metadata": {},
   "source": [
    "Often, ready-made modules are already written for us, and we can use these modules. Such modules are called **libraries**.  \n",
    "There are both built-in libraries (for example, `math`) and those that need to be installed (for example, `numpy`).  \n",
    "To import a library, you need to write `import <libname>`.\n"
   ]
  },
  {
   "cell_type": "markdown",
   "id": "e2f3d352",
   "metadata": {},
   "source": [
    "### Example: Importing Libraries\n",
    "This code shows how to import and use Python libraries."
   ]
  },
  {
   "cell_type": "code",
   "execution_count": 12,
   "id": "61b24256",
   "metadata": {},
   "outputs": [
    {
     "data": {
      "text/plain": [
       "(0.8775825618903728, 3.0)"
      ]
     },
     "execution_count": 12,
     "metadata": {},
     "output_type": "execute_result"
    }
   ],
   "source": [
    "import math\n",
    "\n",
    "math.cos(0.5), math.sqrt(9)"
   ]
  },
  {
   "cell_type": "markdown",
   "id": "0979d1b0",
   "metadata": {},
   "source": [
    "You can import a library using an alias for convenience"
   ]
  },
  {
   "cell_type": "markdown",
   "id": "e61f59a3",
   "metadata": {},
   "source": [
    "### Example: Importing Libraries\n",
    "This code shows how to import and use Python libraries."
   ]
  },
  {
   "cell_type": "code",
   "execution_count": 13,
   "id": "9fdf053e",
   "metadata": {},
   "outputs": [
    {
     "data": {
      "text/plain": [
       "(0.8775825618903728, 3.0)"
      ]
     },
     "execution_count": 13,
     "metadata": {},
     "output_type": "execute_result"
    }
   ],
   "source": [
    "import math as mt\n",
    "\n",
    "mt.cos(0.5), mt.sqrt(9)"
   ]
  },
  {
   "cell_type": "markdown",
   "id": "8498955c",
   "metadata": {},
   "source": [
    "You can import specific functions from a library if you don’t need the entire API"
   ]
  },
  {
   "cell_type": "markdown",
   "id": "07f49c61",
   "metadata": {},
   "source": [
    "### Example: Importing Libraries\n",
    "This code shows how to import and use Python libraries."
   ]
  },
  {
   "cell_type": "code",
   "execution_count": 148,
   "id": "fc94fb97",
   "metadata": {},
   "outputs": [
    {
     "data": {
      "text/plain": [
       "(0.8775825618903728, 0.479425538604203, 0.7071067811865476)"
      ]
     },
     "execution_count": 148,
     "metadata": {},
     "output_type": "execute_result"
    }
   ],
   "source": [
    "from math import *\n",
    "\n",
    "cos(0.5), sin(0.5), sqrt(0.5)"
   ]
  },
  {
   "cell_type": "code",
   "execution_count": 149,
   "id": "c839ed7f",
   "metadata": {},
   "outputs": [
    {
     "data": {
      "text/plain": [
       "1.5574077246549023"
      ]
     },
     "execution_count": 149,
     "metadata": {},
     "output_type": "execute_result"
    }
   ],
   "source": [
    "tan(1)"
   ]
  },
  {
   "cell_type": "markdown",
   "id": "8ed8c5d0",
   "metadata": {},
   "source": [
    "# 3. Introduction to OOP in Python 3"
   ]
  },
  {
   "cell_type": "markdown",
   "id": "4a3971dd",
   "metadata": {},
   "source": [
    "## Defining functions and methods\n",
    "\n",
    "To write your own function, give it a descriptive name after `def` and decide on input arguments."
   ]
  },
  {
   "cell_type": "markdown",
   "id": "342ed0aa",
   "metadata": {},
   "source": [
    "### Example: Defining a Function\n",
    "This code defines a function in Python."
   ]
  },
  {
   "cell_type": "code",
   "execution_count": 14,
   "id": "908b7d2f",
   "metadata": {},
   "outputs": [],
   "source": [
    "def append_to_list(input_list, num_to_add):\n",
    "    input_list.append(num_to_add)"
   ]
  },
  {
   "cell_type": "code",
   "execution_count": 15,
   "id": "d50618f6",
   "metadata": {},
   "outputs": [
    {
     "name": "stdout",
     "output_type": "stream",
     "text": [
      "[1, 2, 3]\n"
     ]
    }
   ],
   "source": [
    "a = [1,2,3]\n",
    "print(a)\n",
    "b = a\n",
    "result = append_to_list(b, 4)"
   ]
  },
  {
   "cell_type": "code",
   "execution_count": 16,
   "id": "457a6193",
   "metadata": {},
   "outputs": [
    {
     "data": {
      "text/plain": [
       "True"
      ]
     },
     "execution_count": 16,
     "metadata": {},
     "output_type": "execute_result"
    }
   ],
   "source": [
    "result is None"
   ]
  },
  {
   "cell_type": "code",
   "execution_count": 17,
   "id": "972c0061",
   "metadata": {},
   "outputs": [
    {
     "data": {
      "text/plain": [
       "[1, 2, 3, 4]"
      ]
     },
     "execution_count": 17,
     "metadata": {},
     "output_type": "execute_result"
    }
   ],
   "source": [
    "b"
   ]
  },
  {
   "cell_type": "code",
   "execution_count": 18,
   "id": "47f42b90",
   "metadata": {},
   "outputs": [
    {
     "data": {
      "text/plain": [
       "[1, 2, 3, 4]"
      ]
     },
     "execution_count": 18,
     "metadata": {},
     "output_type": "execute_result"
    }
   ],
   "source": [
    "a"
   ]
  },
  {
   "cell_type": "markdown",
   "id": "7b74ae0b",
   "metadata": {},
   "source": [
    "### Example: Importing Libraries\n",
    "This code shows how to import and use Python libraries."
   ]
  },
  {
   "cell_type": "code",
   "execution_count": 19,
   "id": "e157100b",
   "metadata": {},
   "outputs": [],
   "source": [
    "from copy import copy"
   ]
  },
  {
   "cell_type": "code",
   "execution_count": 20,
   "id": "87baeaf8",
   "metadata": {},
   "outputs": [],
   "source": [
    "a = [1,2,3]\n",
    "result = append_to_list(copy(a), 4)"
   ]
  },
  {
   "cell_type": "code",
   "execution_count": 21,
   "id": "abaca888",
   "metadata": {},
   "outputs": [],
   "source": [
    "result"
   ]
  },
  {
   "cell_type": "code",
   "execution_count": 22,
   "id": "e233d88d",
   "metadata": {},
   "outputs": [
    {
     "data": {
      "text/plain": [
       "[1, 2, 3]"
      ]
     },
     "execution_count": 22,
     "metadata": {},
     "output_type": "execute_result"
    }
   ],
   "source": [
    "a"
   ]
  },
  {
   "cell_type": "markdown",
   "id": "4bbcd9d5",
   "metadata": {},
   "source": [
    "### Example: Defining a Function\n",
    "This code defines a function in Python."
   ]
  },
  {
   "cell_type": "code",
   "execution_count": 23,
   "id": "3d19152e",
   "metadata": {},
   "outputs": [
    {
     "data": {
      "text/plain": [
       "9"
      ]
     },
     "execution_count": 23,
     "metadata": {},
     "output_type": "execute_result"
    }
   ],
   "source": [
    "def sum_of_three_variables(var1, var2, var3) -> int:\n",
    "    \"\"\"\n",
    "    Here, sum_of_three_variables is the function name.\n",
    "    var1, var2, var3 are the function arguments, i.e., the values we pass in.\n",
    "    By the way, you are now reading the docstring (documentation) of the function.\n",
    "    You can describe each argument and the function logic here.\n",
    "    Documentation is written primarily for other developers and for yourself,\n",
    "    since after some time it can be difficult to remember what was written before.\n",
    "    \"\"\"\n",
    "    result = var1 + var2 + var3\n",
    "    return result\n",
    "\n",
    "# Example of calling the function\n",
    "sum_of_three_variables(1, 5, 3)\n"
   ]
  },
  {
   "cell_type": "markdown",
   "id": "75aac5b9",
   "metadata": {},
   "source": [
    "Let’s try without `return`"
   ]
  },
  {
   "cell_type": "markdown",
   "id": "560ab4dd",
   "metadata": {},
   "source": [
    "### Example: Defining a Function\n",
    "This code defines a function in Python."
   ]
  },
  {
   "cell_type": "code",
   "execution_count": 24,
   "id": "8f64e778",
   "metadata": {},
   "outputs": [],
   "source": [
    "def sum_of_three_variables(var1: int, var2: int, var3: int):\n",
    "    \"\"\"\n",
    "    Here, sum_of_three_variables is the function name.\n",
    "    var1, var2, var3 are the function arguments, i.e., the values we pass in.\n",
    "    By the way, you are now reading the docstring (documentation) of the function.\n",
    "    You can describe each argument and the function logic here.\n",
    "    Documentation is written primarily for other developers and for yourself,\n",
    "    since after some time it can be difficult to remember what was written before.\n",
    "    \"\"\"\n",
    "    result = var1 + var2 + var3\n",
    "    # Missing return statement\n",
    "    # To fix this, add:\n",
    "    return result"
   ]
  },
  {
   "cell_type": "code",
   "execution_count": 25,
   "id": "ff60bf56",
   "metadata": {},
   "outputs": [
    {
     "data": {
      "text/plain": [
       "6"
      ]
     },
     "execution_count": 25,
     "metadata": {},
     "output_type": "execute_result"
    }
   ],
   "source": [
    "result_of_sum = sum_of_three_variables(1, 2, 3)\n",
    "result_of_sum"
   ]
  },
  {
   "cell_type": "code",
   "execution_count": 26,
   "id": "33093925",
   "metadata": {},
   "outputs": [
    {
     "data": {
      "text/plain": [
       "False"
      ]
     },
     "execution_count": 26,
     "metadata": {},
     "output_type": "execute_result"
    }
   ],
   "source": [
    "result_of_sum is None"
   ]
  },
  {
   "cell_type": "markdown",
   "id": "b79c0981",
   "metadata": {},
   "source": [
    "The function output is currently empty, meaning everything we stored in the variable `result` remains inside the function and is not passed out to the main body of the program. Therefore, `return` can be considered a kind of \"communication\" mechanism between different parts of your code.\n"
   ]
  },
  {
   "cell_type": "markdown",
   "id": "701bcd38",
   "metadata": {},
   "source": [
    "## Classes: Creating your own objects\n",
    "\n",
    "Here we create a class `Animal`.  \n",
    "\n",
    "The `__init__` method is called the constructor. In it, we can define the necessary attributes of our class and store them. Often, attributes are passed from outside, as in this example, where we pass the name and age of the animal.  \n",
    "\n",
    "Later, we can access the attributes in the methods of our class using `self` (for example, after defining `self.name` in the constructor, we can access it in the `tell_about_yourself` method).  \n",
    "\n",
    "We can write as many methods as we need inside the class. For instance, here we have a `tell_about_yourself` method that prints the name and age of the animal in the desired format.  \n",
    "\n",
    "Usually, the first argument in class methods is `self`, followed by any other arguments.\n"
   ]
  },
  {
   "cell_type": "markdown",
   "id": "e068f937",
   "metadata": {},
   "source": [
    "### Example: Defining a Function\n",
    "This code defines a function in Python."
   ]
  },
  {
   "cell_type": "code",
   "execution_count": 34,
   "id": "b645e8e6",
   "metadata": {},
   "outputs": [
    {
     "name": "stdout",
     "output_type": "stream",
     "text": [
      "Hello, my name is Bob\n",
      "My age is 5\n",
      "Hello, my name is Alice\n",
      "My age is 3\n",
      "Hello, my name is Burenka\n",
      "My age is 10\n"
     ]
    }
   ],
   "source": [
    "class Animal:\n",
    "    \n",
    "    # __init__ :  the constructor, called automatically when you create a new object.\n",
    "    def __init__(self, name, age):\n",
    "        self.name = name\n",
    "        self.age = age\n",
    "\n",
    "    # Defines what happens when you call len() on an Animal object.\n",
    "    def __len__(self):\n",
    "        return self.age * 3\n",
    "    \n",
    "    # Allows you to use indexing ([]) on the object, like it’s a string or list.\n",
    "    def __getitem__(self, idx):\n",
    "        return self.name[idx]\n",
    "\n",
    "    def tell_about_yourself(self):\n",
    "        print('Hello, my name is', self.name)\n",
    "        print('My age is', self.age)\n",
    "\n",
    "dog = Animal(name='Bob', age=5)\n",
    "dog.tell_about_yourself()\n",
    "\n",
    "cat = Animal('Alice', 3)\n",
    "cat.tell_about_yourself()\n",
    "\n",
    "cow = Animal('Burenka', 10)\n",
    "cow.tell_about_yourself()"
   ]
  },
  {
   "cell_type": "code",
   "execution_count": 35,
   "id": "5ba2d792",
   "metadata": {},
   "outputs": [
    {
     "data": {
      "text/plain": [
       "15"
      ]
     },
     "execution_count": 35,
     "metadata": {},
     "output_type": "execute_result"
    }
   ],
   "source": [
    "len(dog)"
   ]
  },
  {
   "cell_type": "code",
   "execution_count": 36,
   "id": "5a23ed8d",
   "metadata": {},
   "outputs": [
    {
     "data": {
      "text/plain": [
       "'B'"
      ]
     },
     "execution_count": 36,
     "metadata": {},
     "output_type": "execute_result"
    }
   ],
   "source": [
    "dog[0]"
   ]
  },
  {
   "cell_type": "markdown",
   "id": "ed103af0",
   "metadata": {},
   "source": [
    "### Example: Defining a Class\n",
    "This code defines a Python class."
   ]
  },
  {
   "cell_type": "code",
   "execution_count": 38,
   "id": "97a5d019",
   "metadata": {},
   "outputs": [],
   "source": [
    "# Define a new class called `Thing`, which is derived from the base Python object (`object`).\n",
    "# In other words, it inherits from the type `object`.\n",
    "class Thing(object):\n",
    "    my_property = 'I am a \"Thing\"'\n",
    "\n",
    "\n",
    "# Define a new class called `DictThing`, which is derived (inherits) from the type `dict`.\n",
    "class DictThing(dict):\n",
    "    my_property = 'I am a \"DictThing\"'\n"
   ]
  },
  {
   "cell_type": "code",
   "execution_count": 39,
   "id": "4812ed5c",
   "metadata": {},
   "outputs": [
    {
     "name": "stdout",
     "output_type": "stream",
     "text": [
      "<class '__main__.Thing'>\n",
      "<class 'type'>\n",
      "<class '__main__.DictThing'>\n",
      "<class 'type'>\n",
      "True\n",
      "True\n"
     ]
    }
   ],
   "source": [
    "# prints the class itself\n",
    "print(Thing)\n",
    "# classes themselves are objects of type type.\n",
    "print(type(Thing))\n",
    "print(DictThing)\n",
    "print(type(DictThing))\n",
    "print(issubclass(DictThing, dict))\n",
    "# all classes in Python ultimately inherit from object.\n",
    "print(issubclass(DictThing, object))"
   ]
  },
  {
   "cell_type": "code",
   "execution_count": null,
   "id": "b64cf560",
   "metadata": {},
   "outputs": [
    {
     "name": "stdout",
     "output_type": "stream",
     "text": [
      "<__main__.Thing object at 0x000001ACE04B5460>\n",
      "<class '__main__.Thing'>\n",
      "{}\n",
      "<class '__main__.DictThing'>\n"
     ]
    }
   ],
   "source": [
    "# makes an instance of the Thing class\n",
    "t = Thing()\n",
    "d = DictThing()\n",
    "# Since Thing does not define a __str__ or __repr__ method, \n",
    "# Python uses the default representation: memory address\n",
    "print(t)\n",
    "print(type(t))\n",
    "print(d)\n",
    "print(type(d))"
   ]
  },
  {
   "cell_type": "code",
   "execution_count": 41,
   "id": "73c2de32",
   "metadata": {},
   "outputs": [
    {
     "name": "stdout",
     "output_type": "stream",
     "text": [
      "{'name': 'Sally'}\n"
     ]
    }
   ],
   "source": [
    "d['name'] = 'Sally'\n",
    "print(d)"
   ]
  },
  {
   "cell_type": "code",
   "execution_count": 42,
   "id": "b1f35e18",
   "metadata": {},
   "outputs": [
    {
     "name": "stdout",
     "output_type": "stream",
     "text": [
      "{'name': 'Sally', 'age': 13, 'fav_foods': ['pizza', 'sushi', 'pad thai', 'waffles'], 'fav_color': 'green'}\n"
     ]
    }
   ],
   "source": [
    "d.update({'age': 13, 'fav_foods': ['pizza','sushi','pad thai','waffles'], 'fav_color': 'green'})\n",
    "print(d)"
   ]
  },
  {
   "cell_type": "code",
   "execution_count": 43,
   "id": "5e518dd3",
   "metadata": {},
   "outputs": [
    {
     "name": "stdout",
     "output_type": "stream",
     "text": [
      "I am a \"DictThing\"\n"
     ]
    }
   ],
   "source": [
    "print(d.my_property)"
   ]
  },
  {
   "cell_type": "markdown",
   "id": "ff80bc77",
   "metadata": {},
   "source": [
    "## Creating a constructor (initializer) method for your classes\n",
    "\n",
    "(Exercises left intentionally.)"
   ]
  },
  {
   "cell_type": "markdown",
   "id": "34069383",
   "metadata": {},
   "source": [
    "## Magic methods\n",
    "\n",
    "(Exercises left intentionally.)"
   ]
  },
  {
   "cell_type": "markdown",
   "id": "620eec8b",
   "metadata": {},
   "source": [
    "## Context managers and the `with` statement\n",
    "\n",
    "(Exercises left intentionally.)"
   ]
  },
  {
   "cell_type": "markdown",
   "id": "13d1d301",
   "metadata": {},
   "source": []
  },
  {
   "cell_type": "markdown",
   "id": "78a50f0a",
   "metadata": {},
   "source": []
  }
 ],
 "metadata": {
  "kernelspec": {
   "display_name": "Python 3",
   "language": "python",
   "name": "python3"
  },
  "language_info": {
   "codemirror_mode": {
    "name": "ipython",
    "version": 3
   },
   "file_extension": ".py",
   "mimetype": "text/x-python",
   "name": "python",
   "nbconvert_exporter": "python",
   "pygments_lexer": "ipython3",
   "version": "3.12.6"
  }
 },
 "nbformat": 4,
 "nbformat_minor": 5
}
